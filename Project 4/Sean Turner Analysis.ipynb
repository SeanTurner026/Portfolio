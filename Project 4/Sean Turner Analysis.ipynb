{
 "cells": [
  {
   "cell_type": "code",
   "execution_count": 1,
   "metadata": {
    "collapsed": true
   },
   "outputs": [],
   "source": [
    "import numpy as np\n",
    "import pandas as pd\n",
    "import matplotlib.pyplot as plt\n",
    "import seaborn as sns\n",
    "import glob\n",
    "import string\n",
    "import re\n",
    "\n",
    "%matplotlib inline\n",
    "%config InlineBackend.figure_format = 'retina'"
   ]
  },
  {
   "cell_type": "markdown",
   "metadata": {},
   "source": [
    "This is initially how I processed the files from the other workbook. I saved the resulting output to a csv file, making these cells obsolete"
   ]
  },
  {
   "cell_type": "code",
   "execution_count": 2,
   "metadata": {
    "collapsed": true
   },
   "outputs": [],
   "source": [
    "# paths = './Data/*.csv'\n",
    "\n",
    "# # load all csv files of scraped jobs into one dataframe\n",
    "# for i, fpath in enumerate(glob.glob(paths)):\n",
    "#     if i == 0:\n",
    "#         df = pd.read_csv(fpath, index_col=0)\n",
    "#         df['file'] = fpath.split('/')[-1].split('.')[0]\n",
    "#     else:\n",
    "#         temp_df = pd.read_csv(fpath, index_col=0)\n",
    "#         temp_df['file'] = fpath.split('/')[-1].split('.')[0]\n",
    "#         df = pd.concat([df, temp_df])\n",
    "\n",
    "# df.reset_index(inplace = True, drop = True)\n",
    "\n",
    "# # job salary was always in a list one element long. iterate through salaries, and save \n",
    "# # a cleaned version of the text to the dataframe\n",
    "# d = {}\n",
    "\n",
    "# for idx, row in df.iterrows():\n",
    "#     try:\n",
    "#         row['job_salary'][0]\n",
    "#         job_salary = row['job_salary'].split('[\\'')[1].split('\\']')[0].split(': ')[1]\n",
    "#         d.update({idx : job_salary})\n",
    "#     except: \n",
    "#         IndexError\n",
    "#         d.update({idx : np.NaN})\n",
    "        \n",
    "# df['job_salary'] = d.values()\n",
    "\n",
    "# # drop all lines that don't have a salary\n",
    "# df = df[df['job_salary'].isnull() == False]\n",
    "\n",
    "# # map 'Unknown' to job_sub_locations that were zero\n",
    "# df.loc[(df['job_sub_location'] == '0'), 'job_sub_location'] = 'Unknown'\n",
    "\n",
    "# df.drop_duplicates(inplace = True)\n",
    "\n",
    "# df.reset_index(inplace = True, drop = True)"
   ]
  },
  {
   "cell_type": "code",
   "execution_count": 3,
   "metadata": {
    "collapsed": true
   },
   "outputs": [],
   "source": [
    "# # drop salaries that don't contain any numerics\n",
    "# text_only = []\n",
    "# for i, item in enumerate(df['job_salary']):\n",
    "#     for num in range(10):\n",
    "#         if str(num) in item:\n",
    "#             break\n",
    "#         elif num == 9:\n",
    "#             text_only.append(i)"
   ]
  },
  {
   "cell_type": "code",
   "execution_count": 4,
   "metadata": {
    "collapsed": true
   },
   "outputs": [],
   "source": [
    "# # removing salaries without values\n",
    "# df.drop(text_only, axis = 0, inplace = True)\n",
    "# df.reset_index(inplace = True, drop = True)"
   ]
  },
  {
   "cell_type": "code",
   "execution_count": 5,
   "metadata": {
    "collapsed": true
   },
   "outputs": [],
   "source": [
    "# # creating column to flag salary rows which have k instead of ',000'\n",
    "# k_d = {}\n",
    "# # grab any amount of numerics that are followed by 'k' or 'K'\n",
    "# regex_str = r'\\d+k|\\d+K'\n",
    "\n",
    "# regex = re.compile(regex_str)\n",
    "# for i, val in enumerate(df['job_salary']):\n",
    "      # # skip rows that don't match the regex pattern\n",
    "#     if regex.findall(val) != []:\n",
    "          # # place instances with multiple values in one string\n",
    "#         if len(regex.findall(val)) > 1:   \n",
    "#             k_d.update({i: (', ').join(regex.findall(val))})\n",
    "          # # otherwise, just place the one value\n",
    "#         else:\n",
    "#             k_d.update({i : regex.findall(val)[0]})\n",
    "\n",
    "# len(k_d)"
   ]
  },
  {
   "cell_type": "code",
   "execution_count": 6,
   "metadata": {
    "collapsed": true
   },
   "outputs": [],
   "source": [
    "# # iterate through the values the regex selected, \n",
    "# # give a once over to make sure nothing is out of place\n",
    "# for k in k_d.keys():\n",
    "#     print(k)\n",
    "#     print(k_d[k])\n",
    "#     print(df.loc[k,'job_salary'])\n",
    "#     print()"
   ]
  },
  {
   "cell_type": "code",
   "execution_count": 7,
   "metadata": {
    "collapsed": true
   },
   "outputs": [],
   "source": [
    "# # creating column to flag salary rows which have commas\n",
    "# comma_d = {}\n",
    "# # grab any salaries with numerics separated by a comma\n",
    "# regex_str = r'\\d+,\\d+'\n",
    "\n",
    "# regex = re.compile(regex_str)\n",
    "# for i, val in enumerate(df['job_salary']):\n",
    "#     if regex.findall(val) != []:\n",
    "#         if len(regex.findall(val)) > 1:   \n",
    "#             comma_d.update({i: (', ').join(regex.findall(val))})\n",
    "#         else:\n",
    "#             comma_d.update({i : regex.findall(val)[0]})\n",
    "            \n",
    "# len(comma_d)"
   ]
  },
  {
   "cell_type": "code",
   "execution_count": 8,
   "metadata": {
    "collapsed": true
   },
   "outputs": [],
   "source": [
    "# # print the values of overlap between keys\n",
    "# # remove duplicated key from k_d or comma_d depending on the value\n",
    "# for k in comma_d.keys():\n",
    "#     if k in k_d.keys():\n",
    "#         print(k)"
   ]
  },
  {
   "cell_type": "code",
   "execution_count": 9,
   "metadata": {
    "collapsed": true
   },
   "outputs": [],
   "source": [
    "# # give comma_d a once over\n",
    "# for k in comma_d.keys():\n",
    "#     print(k)\n",
    "#     print(comma_d[k])\n",
    "#     print(df.loc[k,'job_salary'])\n",
    "#     print()"
   ]
  },
  {
   "cell_type": "code",
   "execution_count": 10,
   "metadata": {
    "collapsed": true
   },
   "outputs": [],
   "source": [
    "# # creating column to flag salary rows which are just numbers\n",
    "# num_d = {}\n",
    "# regex_str = r'\\d+\\d+\\d+\\d+\\d+\\d+'\n",
    "\n",
    "# regex = re.compile(regex_str)\n",
    "# for i, val in enumerate(df['job_salary']):\n",
    "#     if regex.findall(val) != []:\n",
    "#         if len(regex.findall(val)) > 1:   \n",
    "#             num_d.update({i: (', ').join(regex.findall(val))})\n",
    "#         else:\n",
    "#             num_d.update({i : regex.findall(val)[0]})\n",
    "            \n",
    "# len(num_d)"
   ]
  },
  {
   "cell_type": "code",
   "execution_count": 11,
   "metadata": {
    "collapsed": true
   },
   "outputs": [],
   "source": [
    "# # overlap between keys\n",
    "# for k in num_d.keys():\n",
    "#     if k in k_d.keys():\n",
    "#         print(k)"
   ]
  },
  {
   "cell_type": "code",
   "execution_count": 12,
   "metadata": {
    "collapsed": true
   },
   "outputs": [],
   "source": [
    "# # what the overlapping keys between num_d and k_d look like\n",
    "# df.loc[[504, 1047, 1219, 1367], 'job_salary']"
   ]
  },
  {
   "cell_type": "code",
   "execution_count": 13,
   "metadata": {
    "collapsed": true
   },
   "outputs": [],
   "source": [
    "# # overlap between keys\n",
    "# for k in num_d.keys():\n",
    "#     if k in comma_d.keys():\n",
    "#         print(k)"
   ]
  },
  {
   "cell_type": "code",
   "execution_count": 14,
   "metadata": {
    "collapsed": true
   },
   "outputs": [],
   "source": [
    "# # remove overlapping keys from num_d because they are better suited to k_d\n",
    "# del num_d[504], num_d[1047], num_d[1219], num_d[1367]"
   ]
  },
  {
   "cell_type": "code",
   "execution_count": 15,
   "metadata": {
    "collapsed": true
   },
   "outputs": [],
   "source": [
    "# # once over\n",
    "# for k in num_d.keys():\n",
    "#     print(k)\n",
    "#     print(num_d[k])\n",
    "#     print(df.loc[k,'job_salary'])\n",
    "#     print()"
   ]
  },
  {
   "cell_type": "markdown",
   "metadata": {},
   "source": [
    "Create columns for the dictionaries so that the dataframe can easily be filtered by salaries. For example, filtering df['salary_k'].isnull() == False will only rows for which the regex used to create k_d picked up values"
   ]
  },
  {
   "cell_type": "code",
   "execution_count": 16,
   "metadata": {
    "collapsed": true
   },
   "outputs": [],
   "source": [
    "# df['salary_k'] = np.nan\n",
    "# for k in k_d.keys():\n",
    "#     df.loc[k, 'salary_k'] = k_d[k]\n",
    "    \n",
    "# df['salary_comma'] = np.nan\n",
    "# for k in comma_d.keys():\n",
    "#     df.loc[k, 'salary_comma'] = comma_d[k]\n",
    "    \n",
    "# df['salary_num'] = np.nan\n",
    "# for k in num_d.keys():\n",
    "#     df.loc[k, 'salary_num'] = num_d[k]"
   ]
  },
  {
   "cell_type": "markdown",
   "metadata": {},
   "source": [
    "Create columns to hold extracted salaries from flagged columns. The lower and upper columns will hold the first and second (if applicable) values in the raw salary column, once extracted by the corresponding dictionary (k_d, comma_d, num_d)\n",
    "\n",
    "Said another way, every row will have a lower value, only rows with multiple values extracted by regex will have an upper value, which are to be filled by the second value\n",
    "\n",
    "The lower and upper columns will be processed, and the resulting output will be placed in the salary column"
   ]
  },
  {
   "cell_type": "code",
   "execution_count": 17,
   "metadata": {
    "collapsed": true
   },
   "outputs": [],
   "source": [
    "# df['salary_lower'] = np.nan\n",
    "# df['salary_upper'] = np.nan\n",
    "# df['salary'] = np.nan"
   ]
  },
  {
   "cell_type": "markdown",
   "metadata": {},
   "source": [
    "The lower, upper and salary columns are populated below. Recall that the dictionaries are indexed by row indices in the dataframe. The values are cleaned, masked to in the lower and/or upper columns using the dataframe indices, which are then masked to the salary column"
   ]
  },
  {
   "cell_type": "code",
   "execution_count": 18,
   "metadata": {
    "collapsed": true
   },
   "outputs": [],
   "source": [
    "# for idx, _ in df[df['salary_k'].isnull() == False].iterrows():\n",
    "      # # determine if there are one or two values for a row index\n",
    "#     if ',' in k_d[idx]:\n",
    "          # # replacing the k with 000 to turn 100k into 100000\n",
    "#         df.loc[idx, 'salary_lower'] = int(k_d[idx].split(', ')[0].lower().replace('k','000'))\n",
    "#         df.loc[idx, 'salary_upper'] = int(k_d[idx].split(', ')[1].lower().replace('k','000'))\n",
    "#         df.loc[idx, 'salary'] = np.mean([df.loc[idx, 'salary_lower'], \n",
    "#                                          df.loc[idx, 'salary_upper']])\n",
    "#     else:\n",
    "#         df.loc[idx, 'salary_lower'] = int(k_d[idx].lower().replace('k','000'))\n",
    "#         df.loc[idx, 'salary'] = df.loc[idx, 'salary_lower']"
   ]
  },
  {
   "cell_type": "code",
   "execution_count": 19,
   "metadata": {
    "collapsed": true
   },
   "outputs": [],
   "source": [
    "# for idx, row in df[df['salary_comma'].isnull() == False].iterrows():\n",
    "#     if len(comma_d[idx].split(', ')) > 1:\n",
    "          # # these values have the proper number of zeros, but the commas force pandas to interpret the columns as objects\n",
    "#         df.loc[idx, 'salary_lower'] = int(comma_d[idx].split(', ')[0].replace(',', ''))\n",
    "#         df.loc[idx, 'salary_upper'] = int(comma_d[idx].split(', ')[1].replace(',', ''))\n",
    "#         df.loc[idx, 'salary'] = np.mean([df.loc[idx, 'salary_lower'], \n",
    "#                                          df.loc[idx, 'salary_upper']])\n",
    "        \n",
    "#     else:\n",
    "#         df.loc[idx, 'salary_lower'] = int(comma_d[idx].replace(',', ''))\n",
    "#         df.loc[idx, 'salary'] = df.loc[idx, 'salary_lower']"
   ]
  },
  {
   "cell_type": "code",
   "execution_count": 20,
   "metadata": {
    "collapsed": true
   },
   "outputs": [],
   "source": [
    "# for idx, _ in df[df['salary_num'].isnull() == False].iterrows():\n",
    "#     if ',' in num_d[idx]:\n",
    "          # # these values are nearly set, they just need to be masked\n",
    "#         df.loc[idx, 'salary_lower'] = int(num_d[idx].split(', ')[0])\n",
    "#         df.loc[idx, 'salary_upper'] = int(num_d[idx].split(', ')[1])\n",
    "#         df.loc[idx, 'salary'] = np.mean([df.loc[idx, 'salary_lower'], \n",
    "#                                          df.loc[idx, 'salary_upper']])\n",
    "#     else:\n",
    "#         df.loc[idx, 'salary_lower'] = int(num_d[idx])\n",
    "#         df.loc[idx, 'salary'] = df.loc[idx, 'salary_lower']"
   ]
  },
  {
   "cell_type": "code",
   "execution_count": 21,
   "metadata": {
    "collapsed": true
   },
   "outputs": [],
   "source": [
    "# # adding a length of description to each row\n",
    "# for idx, row in df.iterrows():\n",
    "#     length = 0\n",
    "#     length = len(row['job_description'].split(' '))\n",
    "#     df.loc[idx, 'description_len'] = length"
   ]
  },
  {
   "cell_type": "markdown",
   "metadata": {
    "collapsed": true
   },
   "source": [
    "The resulting dataframe was saved as second_scrape_w_text.csv. I later went back and scraped the full job text for these values which is why there is disconnect between how some code is written and the chronological ordering of cells."
   ]
  },
  {
   "cell_type": "markdown",
   "metadata": {},
   "source": [
    "### Classifying Jobs as Data Science or Non-Data Science"
   ]
  },
  {
   "cell_type": "code",
   "execution_count": 22,
   "metadata": {
    "collapsed": true
   },
   "outputs": [],
   "source": [
    "df = pd.read_csv('second_scrape_w_text.csv', index_col=0)\n",
    "# 0 indicates data science, 1 indicates non data science\n",
    "df['target'] = df['file'].apply(lambda x: 1 if x == 'business-analyst' else 0)"
   ]
  },
  {
   "cell_type": "code",
   "execution_count": 23,
   "metadata": {
    "collapsed": true
   },
   "outputs": [],
   "source": [
    "df = df[['job_title', 'job_company', 'target', 'job_description', 'job_text', 'job_employment_type', 'job_ids', 'job_industry', \n",
    "         'job_sub_industry', 'job_location', 'job_sub_location', 'description_len', 'job_urls']]"
   ]
  },
  {
   "cell_type": "code",
   "execution_count": 24,
   "metadata": {},
   "outputs": [
    {
     "data": {
      "text/html": [
       "<div>\n",
       "<style>\n",
       "    .dataframe thead tr:only-child th {\n",
       "        text-align: right;\n",
       "    }\n",
       "\n",
       "    .dataframe thead th {\n",
       "        text-align: left;\n",
       "    }\n",
       "\n",
       "    .dataframe tbody tr th {\n",
       "        vertical-align: top;\n",
       "    }\n",
       "</style>\n",
       "<table border=\"1\" class=\"dataframe\">\n",
       "  <thead>\n",
       "    <tr style=\"text-align: right;\">\n",
       "      <th></th>\n",
       "      <th>job_title</th>\n",
       "      <th>job_company</th>\n",
       "      <th>target</th>\n",
       "      <th>job_description</th>\n",
       "      <th>job_text</th>\n",
       "      <th>job_employment_type</th>\n",
       "      <th>job_ids</th>\n",
       "      <th>job_industry</th>\n",
       "      <th>job_sub_industry</th>\n",
       "      <th>job_location</th>\n",
       "      <th>job_sub_location</th>\n",
       "      <th>description_len</th>\n",
       "      <th>job_urls</th>\n",
       "    </tr>\n",
       "  </thead>\n",
       "  <tbody>\n",
       "    <tr>\n",
       "      <th>0</th>\n",
       "      <td>Big Data Engineer - (Scala or Java or Python)</td>\n",
       "      <td>Big Wednesday</td>\n",
       "      <td>0</td>\n",
       "      <td>Big Data Engineer - US Dot-com Company</td>\n",
       "      <td>Big Data Engineer - US Dot-com Company Require...</td>\n",
       "      <td>Full Time</td>\n",
       "      <td>34455993</td>\n",
       "      <td>Information &amp; Communication Technology</td>\n",
       "      <td>Engineering - Software</td>\n",
       "      <td>Melbourne</td>\n",
       "      <td>Unknown</td>\n",
       "      <td>7.0</td>\n",
       "      <td>https://www.seek.com.au/job/34455993</td>\n",
       "    </tr>\n",
       "    <tr>\n",
       "      <th>1</th>\n",
       "      <td>Head of Big Data - Relocate to Bangkok, Thailand</td>\n",
       "      <td>Big Wednesday</td>\n",
       "      <td>0</td>\n",
       "      <td>Our client a leading IT company in Asia is cur...</td>\n",
       "      <td>Our client a leading IT company in Asia is cur...</td>\n",
       "      <td>Full Time</td>\n",
       "      <td>34445914</td>\n",
       "      <td>Information &amp; Communication Technology</td>\n",
       "      <td>Management</td>\n",
       "      <td>Melbourne</td>\n",
       "      <td>Unknown</td>\n",
       "      <td>26.0</td>\n",
       "      <td>https://www.seek.com.au/job/34445914</td>\n",
       "    </tr>\n",
       "    <tr>\n",
       "      <th>2</th>\n",
       "      <td>Senior DevOps Engineer, with appreciation of B...</td>\n",
       "      <td>Just Digital People</td>\n",
       "      <td>0</td>\n",
       "      <td>Senior Devops Engineer with an appreciation Bi...</td>\n",
       "      <td>DevOps / Site Reliability Engineer (AWS) New p...</td>\n",
       "      <td>Full Time</td>\n",
       "      <td>34433930</td>\n",
       "      <td>Information &amp; Communication Technology</td>\n",
       "      <td>Engineering - Software</td>\n",
       "      <td>Sydney</td>\n",
       "      <td>CBD, Inner West &amp; Eastern Suburbs</td>\n",
       "      <td>12.0</td>\n",
       "      <td>https://www.seek.com.au/job/34433930</td>\n",
       "    </tr>\n",
       "    <tr>\n",
       "      <th>3</th>\n",
       "      <td>Head of Big Data Engineering - CBD-based</td>\n",
       "      <td>FourQuarters Recruitment</td>\n",
       "      <td>0</td>\n",
       "      <td>Head of Big Data required to build and manage ...</td>\n",
       "      <td>Head of Big Data required to build and manage ...</td>\n",
       "      <td>Full Time</td>\n",
       "      <td>34413441</td>\n",
       "      <td>Information &amp; Communication Technology</td>\n",
       "      <td>Other</td>\n",
       "      <td>Melbourne</td>\n",
       "      <td>Unknown</td>\n",
       "      <td>18.0</td>\n",
       "      <td>https://www.seek.com.au/job/34413441</td>\n",
       "    </tr>\n",
       "    <tr>\n",
       "      <th>4</th>\n",
       "      <td>Big Data Engineer - Hadoop, AWS</td>\n",
       "      <td>FourQuarters Recruitment</td>\n",
       "      <td>0</td>\n",
       "      <td>Big Data Engineer required to join a leading f...</td>\n",
       "      <td>Big Data Engineer required to join a leading f...</td>\n",
       "      <td>Full Time</td>\n",
       "      <td>34413442</td>\n",
       "      <td>Information &amp; Communication Technology</td>\n",
       "      <td>Developers/Programmers</td>\n",
       "      <td>Melbourne</td>\n",
       "      <td>Unknown</td>\n",
       "      <td>11.0</td>\n",
       "      <td>https://www.seek.com.au/job/34413442</td>\n",
       "    </tr>\n",
       "  </tbody>\n",
       "</table>\n",
       "</div>"
      ],
      "text/plain": [
       "                                           job_title  \\\n",
       "0      Big Data Engineer - (Scala or Java or Python)   \n",
       "1   Head of Big Data - Relocate to Bangkok, Thailand   \n",
       "2  Senior DevOps Engineer, with appreciation of B...   \n",
       "3           Head of Big Data Engineering - CBD-based   \n",
       "4                    Big Data Engineer - Hadoop, AWS   \n",
       "\n",
       "                job_company  target  \\\n",
       "0             Big Wednesday       0   \n",
       "1             Big Wednesday       0   \n",
       "2       Just Digital People       0   \n",
       "3  FourQuarters Recruitment       0   \n",
       "4  FourQuarters Recruitment       0   \n",
       "\n",
       "                                     job_description  \\\n",
       "0             Big Data Engineer - US Dot-com Company   \n",
       "1  Our client a leading IT company in Asia is cur...   \n",
       "2  Senior Devops Engineer with an appreciation Bi...   \n",
       "3  Head of Big Data required to build and manage ...   \n",
       "4  Big Data Engineer required to join a leading f...   \n",
       "\n",
       "                                            job_text job_employment_type  \\\n",
       "0  Big Data Engineer - US Dot-com Company Require...           Full Time   \n",
       "1  Our client a leading IT company in Asia is cur...           Full Time   \n",
       "2  DevOps / Site Reliability Engineer (AWS) New p...           Full Time   \n",
       "3  Head of Big Data required to build and manage ...           Full Time   \n",
       "4  Big Data Engineer required to join a leading f...           Full Time   \n",
       "\n",
       "    job_ids                            job_industry        job_sub_industry  \\\n",
       "0  34455993  Information & Communication Technology  Engineering - Software   \n",
       "1  34445914  Information & Communication Technology              Management   \n",
       "2  34433930  Information & Communication Technology  Engineering - Software   \n",
       "3  34413441  Information & Communication Technology                   Other   \n",
       "4  34413442  Information & Communication Technology  Developers/Programmers   \n",
       "\n",
       "  job_location                   job_sub_location  description_len  \\\n",
       "0    Melbourne                            Unknown              7.0   \n",
       "1    Melbourne                            Unknown             26.0   \n",
       "2       Sydney  CBD, Inner West & Eastern Suburbs             12.0   \n",
       "3    Melbourne                            Unknown             18.0   \n",
       "4    Melbourne                            Unknown             11.0   \n",
       "\n",
       "                               job_urls  \n",
       "0  https://www.seek.com.au/job/34455993  \n",
       "1  https://www.seek.com.au/job/34445914  \n",
       "2  https://www.seek.com.au/job/34433930  \n",
       "3  https://www.seek.com.au/job/34413441  \n",
       "4  https://www.seek.com.au/job/34413442  "
      ]
     },
     "execution_count": 24,
     "metadata": {},
     "output_type": "execute_result"
    }
   ],
   "source": [
    "df.head()"
   ]
  },
  {
   "cell_type": "code",
   "execution_count": 25,
   "metadata": {
    "collapsed": true
   },
   "outputs": [],
   "source": [
    "def convert_camelcase(name):\n",
    "    '''Convert CamelCase to camel case'''\n",
    "    s1 = re.sub('(.)([A-Z][a-z]+)', r'\\1 \\2', name)\n",
    "    return re.sub('([a-z0-9])([A-Z])', r'\\1 \\2', s1).lower()"
   ]
  },
  {
   "cell_type": "code",
   "execution_count": 26,
   "metadata": {
    "collapsed": true
   },
   "outputs": [],
   "source": [
    "# going through and removing punctuation from text features\n",
    "exclude = set(string.punctuation)\n",
    "\n",
    "for col in ['job_title', 'job_description', 'job_text', 'job_industry', 'job_sub_industry']:\n",
    "    for idx, row in df.iterrows():\n",
    "        s = row[col]\n",
    "        s = ''.join(ch for ch in s if ch not in exclude)\n",
    "        # removing punctuation caused words to be glued together, this function was used to insert a whitespace\n",
    "        s = convert_camelcase(s)\n",
    "        df.loc[idx, col] = s.replace('  ',' ')\n",
    "    \n",
    "    # attempt at removing numerics from the text features\n",
    "    for num in range(9):\n",
    "        df[col] = df[col].str.replace(str(num),'')\n",
    "        \n",
    "    df[col] = df[col].str.replace('  ', ' ')"
   ]
  },
  {
   "cell_type": "code",
   "execution_count": 27,
   "metadata": {
    "collapsed": true
   },
   "outputs": [],
   "source": [
    "# iterating through rows that seem to be dev jobs\n",
    "developer_indices = []\n",
    "for i, job in enumerate(df['job_title']):\n",
    "    for title in ['developer', 'stack']:\n",
    "        if title in job:\n",
    "            developer_indices.append(i)"
   ]
  },
  {
   "cell_type": "code",
   "execution_count": 28,
   "metadata": {},
   "outputs": [
    {
     "data": {
      "text/plain": [
       "93"
      ]
     },
     "execution_count": 28,
     "metadata": {},
     "output_type": "execute_result"
    }
   ],
   "source": [
    "pd.Series(developer_indices).nunique()"
   ]
  },
  {
   "cell_type": "code",
   "execution_count": 29,
   "metadata": {
    "collapsed": true
   },
   "outputs": [],
   "source": [
    "# mapping the dev jobs to be non-data science jobs\n",
    "df.loc[pd.Series(developer_indices).unique(), 'target'] = 1"
   ]
  },
  {
   "cell_type": "code",
   "execution_count": 30,
   "metadata": {
    "collapsed": true
   },
   "outputs": [],
   "source": [
    "from sklearn.feature_extraction.text import TfidfVectorizer"
   ]
  },
  {
   "cell_type": "code",
   "execution_count": 31,
   "metadata": {
    "collapsed": true
   },
   "outputs": [],
   "source": [
    "# creating a sparse matrix of the job text\n",
    "tf = TfidfVectorizer(stop_words='english')\n",
    "tf_model = tf.fit_transform(df['job_text'])"
   ]
  },
  {
   "cell_type": "code",
   "execution_count": 32,
   "metadata": {},
   "outputs": [
    {
     "data": {
      "text/plain": [
       "(922, 8404)"
      ]
     },
     "execution_count": 32,
     "metadata": {},
     "output_type": "execute_result"
    }
   ],
   "source": [
    "tf_model.shape"
   ]
  },
  {
   "cell_type": "code",
   "execution_count": 33,
   "metadata": {
    "collapsed": true
   },
   "outputs": [],
   "source": [
    "from sklearn.naive_bayes import MultinomialNB"
   ]
  },
  {
   "cell_type": "code",
   "execution_count": 34,
   "metadata": {},
   "outputs": [
    {
     "data": {
      "text/plain": [
       "MultinomialNB(alpha=1.0, class_prior=None, fit_prior=True)"
      ]
     },
     "execution_count": 34,
     "metadata": {},
     "output_type": "execute_result"
    }
   ],
   "source": [
    "nb = MultinomialNB()\n",
    "nb.fit(tf_model, df['target'])"
   ]
  },
  {
   "cell_type": "code",
   "execution_count": 35,
   "metadata": {
    "collapsed": true
   },
   "outputs": [],
   "source": [
    "# nb.coef_[0][1633]"
   ]
  },
  {
   "cell_type": "code",
   "execution_count": 36,
   "metadata": {
    "scrolled": true
   },
   "outputs": [
    {
     "data": {
      "text/plain": [
       "1014   -5.797478\n",
       "2742   -6.225272\n",
       "355    -6.598414\n",
       "6932   -6.600675\n",
       "6528   -6.614116\n",
       "1888   -6.615121\n",
       "348    -6.710646\n",
       "2923   -6.736159\n",
       "6380   -6.770057\n",
       "4514   -6.772938\n",
       "8277   -6.776954\n",
       "7464   -6.781707\n",
       "2106   -6.786451\n",
       "8287   -6.812977\n",
       "5910   -6.852086\n",
       "7252   -6.863181\n",
       "5898   -6.880552\n",
       "6357   -6.934099\n",
       "7402   -6.956742\n",
       "7353   -6.961328\n",
       "5835   -7.021609\n",
       "455    -7.063016\n",
       "23     -7.070683\n",
       "6804   -7.073582\n",
       "1454   -7.103005\n",
       "5836   -7.111258\n",
       "1302   -7.113158\n",
       "7126   -7.117387\n",
       "3777   -7.117585\n",
       "4147   -7.118761\n",
       "          ...   \n",
       "6552   -9.424003\n",
       "2761   -9.424003\n",
       "2758   -9.424003\n",
       "2757   -9.424003\n",
       "2788   -9.424003\n",
       "6538   -9.424003\n",
       "2794   -9.424003\n",
       "6535   -9.424003\n",
       "2841   -9.424003\n",
       "6499   -9.424003\n",
       "6502   -9.424003\n",
       "2832   -9.424003\n",
       "6505   -9.424003\n",
       "6507   -9.424003\n",
       "2828   -9.424003\n",
       "6515   -9.424003\n",
       "6517   -9.424003\n",
       "2823   -9.424003\n",
       "6522   -9.424003\n",
       "2817   -9.424003\n",
       "6523   -9.424003\n",
       "2811   -9.424003\n",
       "2809   -9.424003\n",
       "6527   -9.424003\n",
       "6529   -9.424003\n",
       "2803   -9.424003\n",
       "6531   -9.424003\n",
       "6532   -9.424003\n",
       "2799   -9.424003\n",
       "8403   -9.424003\n",
       "Length: 8404, dtype: float64"
      ]
     },
     "execution_count": 36,
     "metadata": {},
     "output_type": "execute_result"
    }
   ],
   "source": [
    "# wasn't able to figure out how to translate the most valuable sparse matrix features back into text\n",
    "pd.Series(nb.coef_[0]).sort_values(ascending = False)"
   ]
  },
  {
   "cell_type": "code",
   "execution_count": 37,
   "metadata": {},
   "outputs": [
    {
     "data": {
      "text/html": [
       "<div>\n",
       "<style>\n",
       "    .dataframe thead tr:only-child th {\n",
       "        text-align: right;\n",
       "    }\n",
       "\n",
       "    .dataframe thead th {\n",
       "        text-align: left;\n",
       "    }\n",
       "\n",
       "    .dataframe tbody tr th {\n",
       "        vertical-align: top;\n",
       "    }\n",
       "</style>\n",
       "<table border=\"1\" class=\"dataframe\">\n",
       "  <thead>\n",
       "    <tr style=\"text-align: right;\">\n",
       "      <th>predictions</th>\n",
       "      <th>0</th>\n",
       "      <th>1</th>\n",
       "      <th>All</th>\n",
       "    </tr>\n",
       "    <tr>\n",
       "      <th>actual</th>\n",
       "      <th></th>\n",
       "      <th></th>\n",
       "      <th></th>\n",
       "    </tr>\n",
       "  </thead>\n",
       "  <tbody>\n",
       "    <tr>\n",
       "      <th>0</th>\n",
       "      <td>494</td>\n",
       "      <td>18</td>\n",
       "      <td>512</td>\n",
       "    </tr>\n",
       "    <tr>\n",
       "      <th>1</th>\n",
       "      <td>49</td>\n",
       "      <td>361</td>\n",
       "      <td>410</td>\n",
       "    </tr>\n",
       "    <tr>\n",
       "      <th>All</th>\n",
       "      <td>543</td>\n",
       "      <td>379</td>\n",
       "      <td>922</td>\n",
       "    </tr>\n",
       "  </tbody>\n",
       "</table>\n",
       "</div>"
      ],
      "text/plain": [
       "predictions    0    1  All\n",
       "actual                    \n",
       "0            494   18  512\n",
       "1             49  361  410\n",
       "All          543  379  922"
      ]
     },
     "execution_count": 37,
     "metadata": {},
     "output_type": "execute_result"
    }
   ],
   "source": [
    "predictions_nb = nb.predict(tf_model)\n",
    "pred_prob_nb = nb.predict_proba(tf_model)\n",
    "pd.crosstab(df['target'], predictions_nb, rownames = ['actual'], \n",
    "            colnames = ['predictions'], margins = True)"
   ]
  },
  {
   "cell_type": "code",
   "execution_count": 38,
   "metadata": {},
   "outputs": [
    {
     "name": "stdout",
     "output_type": "stream",
     "text": [
      "67 misclassifications\n",
      "92 percent accurate\n"
     ]
    }
   ],
   "source": [
    "count = 0\n",
    "for pred, true in zip(predictions_nb, df['target']):\n",
    "    if pred != true:\n",
    "        count += 1\n",
    "print(count, 'misclassifications')\n",
    "print((str((df.shape[0] - count) / df.shape[0]))[2:4], 'percent accurate')"
   ]
  },
  {
   "cell_type": "code",
   "execution_count": 39,
   "metadata": {},
   "outputs": [
    {
     "data": {
      "text/plain": [
       "67"
      ]
     },
     "execution_count": 39,
     "metadata": {},
     "output_type": "execute_result"
    }
   ],
   "source": [
    "count"
   ]
  },
  {
   "cell_type": "code",
   "execution_count": 40,
   "metadata": {
    "collapsed": true
   },
   "outputs": [],
   "source": [
    "df_prob_nb = pd.DataFrame(data = pred_prob_nb, columns = ['false', 'true'])"
   ]
  },
  {
   "cell_type": "code",
   "execution_count": 41,
   "metadata": {},
   "outputs": [
    {
     "data": {
      "text/plain": [
       "(361, 18, 494, 49)"
      ]
     },
     "execution_count": 41,
     "metadata": {},
     "output_type": "execute_result"
    }
   ],
   "source": [
    "tp = np.sum((df['target'] == 1) & (predictions_nb == 1))\n",
    "fp = np.sum((df['target'] == 0) & (predictions_nb == 1))\n",
    "tn = np.sum((df['target'] == 0) & (predictions_nb == 0))\n",
    "fn = np.sum((df['target'] == 1) & (predictions_nb == 0))\n",
    "tp, fp, tn, fn"
   ]
  },
  {
   "cell_type": "code",
   "execution_count": 1,
   "metadata": {
    "collapsed": true
   },
   "outputs": [],
   "source": [
    "from sklearn.metrics import roc_curve, auc"
   ]
  },
  {
   "cell_type": "code",
   "execution_count": 43,
   "metadata": {
    "collapsed": true
   },
   "outputs": [],
   "source": [
    "# Naive Bayes gave a very low rate of false positives"
   ]
  },
  {
   "cell_type": "code",
   "execution_count": null,
   "metadata": {
    "collapsed": true
   },
   "outputs": [],
   "source": [
    "roc_curve"
   ]
  },
  {
   "cell_type": "code",
   "execution_count": 44,
   "metadata": {},
   "outputs": [
    {
     "data": {
      "image/png": "[encoded data removed]",
      "text/plain": [
       "<matplotlib.figure.Figure at 0x10e874b00>"
      ]
     },
     "metadata": {
      "image/png": {
       "height": 505,
       "width": 509
      }
     },
     "output_type": "display_data"
    }
   ],
   "source": [
    "fpr, tpr, _ = roc_curve(df['target'], df_prob_nb['true'])\n",
    "roc_auc = auc(fpr, tpr)\n",
    "\n",
    "plt.figure(figsize=[8,8])\n",
    "plt.plot(fpr, tpr, label='ROC curve (area = %0.2f)' % roc_auc, linewidth=4)\n",
    "plt.plot([0, 1], [0, 1], 'k--', linewidth=4)\n",
    "plt.xlim([-0.05, 1.0])\n",
    "plt.ylim([-0.05, 1.05])\n",
    "plt.xlabel('False Positive Rate', fontsize=18)\n",
    "plt.ylabel('True Positive Rate', fontsize=18)\n",
    "\n",
    "plt.title('Receiver Operating Curve Naive Bayes', fontsize=18)\n",
    "plt.legend(loc=\"lower right\")\n",
    "plt.show()"
   ]
  },
  {
   "cell_type": "code",
   "execution_count": 45,
   "metadata": {
    "collapsed": true
   },
   "outputs": [],
   "source": [
    "from sklearn.ensemble import RandomForestClassifier"
   ]
  },
  {
   "cell_type": "code",
   "execution_count": 46,
   "metadata": {
    "collapsed": true
   },
   "outputs": [],
   "source": [
    "rfc = RandomForestClassifier(n_estimators = 100, random_state = 101)"
   ]
  },
  {
   "cell_type": "code",
   "execution_count": 47,
   "metadata": {},
   "outputs": [
    {
     "data": {
      "text/plain": [
       "RandomForestClassifier(bootstrap=True, class_weight=None, criterion='gini',\n",
       "            max_depth=None, max_features='auto', max_leaf_nodes=None,\n",
       "            min_impurity_split=1e-07, min_samples_leaf=1,\n",
       "            min_samples_split=2, min_weight_fraction_leaf=0.0,\n",
       "            n_estimators=100, n_jobs=1, oob_score=False, random_state=101,\n",
       "            verbose=0, warm_start=False)"
      ]
     },
     "execution_count": 47,
     "metadata": {},
     "output_type": "execute_result"
    }
   ],
   "source": [
    "rfc = RandomForestClassifier(n_estimators = 100, random_state = 101)\n",
    "rfc.fit(tf_model, df['target'])"
   ]
  },
  {
   "cell_type": "code",
   "execution_count": 48,
   "metadata": {
    "scrolled": true
   },
   "outputs": [
    {
     "data": {
      "text/html": [
       "<div>\n",
       "<style>\n",
       "    .dataframe thead tr:only-child th {\n",
       "        text-align: right;\n",
       "    }\n",
       "\n",
       "    .dataframe thead th {\n",
       "        text-align: left;\n",
       "    }\n",
       "\n",
       "    .dataframe tbody tr th {\n",
       "        vertical-align: top;\n",
       "    }\n",
       "</style>\n",
       "<table border=\"1\" class=\"dataframe\">\n",
       "  <thead>\n",
       "    <tr style=\"text-align: right;\">\n",
       "      <th>predictions</th>\n",
       "      <th>0</th>\n",
       "      <th>1</th>\n",
       "      <th>All</th>\n",
       "    </tr>\n",
       "    <tr>\n",
       "      <th>actual</th>\n",
       "      <th></th>\n",
       "      <th></th>\n",
       "      <th></th>\n",
       "    </tr>\n",
       "  </thead>\n",
       "  <tbody>\n",
       "    <tr>\n",
       "      <th>0</th>\n",
       "      <td>499</td>\n",
       "      <td>13</td>\n",
       "      <td>512</td>\n",
       "    </tr>\n",
       "    <tr>\n",
       "      <th>1</th>\n",
       "      <td>27</td>\n",
       "      <td>383</td>\n",
       "      <td>410</td>\n",
       "    </tr>\n",
       "    <tr>\n",
       "      <th>All</th>\n",
       "      <td>526</td>\n",
       "      <td>396</td>\n",
       "      <td>922</td>\n",
       "    </tr>\n",
       "  </tbody>\n",
       "</table>\n",
       "</div>"
      ],
      "text/plain": [
       "predictions    0    1  All\n",
       "actual                    \n",
       "0            499   13  512\n",
       "1             27  383  410\n",
       "All          526  396  922"
      ]
     },
     "execution_count": 48,
     "metadata": {},
     "output_type": "execute_result"
    }
   ],
   "source": [
    "predictions_rfc = rfc.predict(tf_model)\n",
    "pred_prob_rfc = rfc.predict_proba(tf_model)\n",
    "pd.crosstab(df['target'], predictions_rfc, rownames = ['actual'], \n",
    "            colnames = ['predictions'], margins = True)"
   ]
  },
  {
   "cell_type": "code",
   "execution_count": 49,
   "metadata": {},
   "outputs": [
    {
     "name": "stdout",
     "output_type": "stream",
     "text": [
      "40 misclassifications\n",
      "95 percent accurate\n"
     ]
    }
   ],
   "source": [
    "count = 0\n",
    "for pred, true in zip(predictions_rfc, df['target']):\n",
    "    if pred != true:\n",
    "        count += 1\n",
    "print(count, 'misclassifications')\n",
    "print((str((df.shape[0] - count) / df.shape[0]))[2:4], 'percent accurate')"
   ]
  },
  {
   "cell_type": "code",
   "execution_count": 50,
   "metadata": {},
   "outputs": [
    {
     "data": {
      "text/plain": [
       "(383, 13, 499, 27)"
      ]
     },
     "execution_count": 50,
     "metadata": {},
     "output_type": "execute_result"
    }
   ],
   "source": [
    "tp = np.sum((df['target'] == 1) & (predictions_rfc == 1))\n",
    "fp = np.sum((df['target'] == 0) & (predictions_rfc == 1))\n",
    "tn = np.sum((df['target'] == 0) & (predictions_rfc == 0))\n",
    "fn = np.sum((df['target'] == 1) & (predictions_rfc == 0))\n",
    "tp, fp, tn, fn"
   ]
  },
  {
   "cell_type": "code",
   "execution_count": 51,
   "metadata": {
    "collapsed": true
   },
   "outputs": [],
   "source": [
    "df_prob_rfc = pd.DataFrame(data = pred_prob_rfc, columns = ['false', 'true'])"
   ]
  },
  {
   "cell_type": "code",
   "execution_count": 52,
   "metadata": {
    "collapsed": true
   },
   "outputs": [],
   "source": [
    "# Random Forest gave an even better rate of false positives"
   ]
  },
  {
   "cell_type": "code",
   "execution_count": 53,
   "metadata": {},
   "outputs": [
    {
     "data": {
      "image/png": "[encoded data removed]",
      "text/plain": [
       "<matplotlib.figure.Figure at 0x113487278>"
      ]
     },
     "metadata": {
      "image/png": {
       "height": 505,
       "width": 509
      }
     },
     "output_type": "display_data"
    }
   ],
   "source": [
    "fpr, tpr, _ = roc_curve(df['target'], df_prob_rfc['true'])\n",
    "roc_auc = auc(fpr, tpr)\n",
    "\n",
    "plt.figure(figsize=[8,8])\n",
    "plt.plot(fpr, tpr, label='ROC curve (area = %0.2f)' % roc_auc, linewidth=4)\n",
    "plt.plot([0, 1], [0, 1], 'k--', linewidth=4)\n",
    "plt.xlim([-0.05, 1.0])\n",
    "plt.ylim([-0.05, 1.05])\n",
    "plt.xlabel('False Positive Rate', fontsize=18)\n",
    "plt.ylabel('True Positive Rate', fontsize=18)\n",
    "\n",
    "plt.title('Receiver Operating Curve Random Forest', fontsize=18)\n",
    "plt.legend(loc=\"lower right\")\n",
    "plt.show()"
   ]
  },
  {
   "cell_type": "code",
   "execution_count": 54,
   "metadata": {},
   "outputs": [
    {
     "data": {
      "text/plain": [
       "1888    0.024426\n",
       "369     0.016778\n",
       "6665    0.015890\n",
       "4475    0.013219\n",
       "355     0.010989\n",
       "7163    0.010823\n",
       "1014    0.009955\n",
       "4271    0.008362\n",
       "3833    0.007123\n",
       "2923    0.006875\n",
       "dtype: float64"
      ]
     },
     "execution_count": 54,
     "metadata": {},
     "output_type": "execute_result"
    }
   ],
   "source": [
    "pd.Series(rfc.feature_importances_).sort_values(ascending = False).head(10)"
   ]
  },
  {
   "cell_type": "markdown",
   "metadata": {},
   "source": [
    "### Classifying between Senior roles and Non-Senior"
   ]
  },
  {
   "cell_type": "code",
   "execution_count": 55,
   "metadata": {
    "collapsed": true
   },
   "outputs": [],
   "source": [
    "# grab indices relating to senior positions\n",
    "senior_indices = []\n",
    "for i, job in enumerate(df['job_title']):\n",
    "    for title in ['senior', 'head', 'director', 'lead']:\n",
    "        if title in job:\n",
    "            senior_indices.append(i)"
   ]
  },
  {
   "cell_type": "code",
   "execution_count": 56,
   "metadata": {},
   "outputs": [
    {
     "data": {
      "text/plain": [
       "array([  1,   2,   3,  15,  16,  17,  18,  21,  27,  36,  40,  41,  51,\n",
       "        53,  54,  56,  57,  58,  59,  60,  67,  68,  69,  70,  76,  78,\n",
       "        79,  84,  94,  95,  97,  98, 101, 104, 105, 106, 112, 114, 117,\n",
       "       122, 126, 127, 129, 131, 133, 137, 148, 149, 150, 151, 161, 163,\n",
       "       165, 177, 182, 183, 185, 200, 201, 207, 208, 209, 213, 215, 216,\n",
       "       218, 220, 227, 229, 230, 231, 232, 236, 240, 245, 256, 264, 282,\n",
       "       284, 290, 293, 294, 308, 315, 317, 318, 322, 323, 328, 341, 343,\n",
       "       346, 347, 349, 365, 372, 373, 375, 380, 381, 387, 391, 393, 407,\n",
       "       408, 419, 423, 428, 429, 460, 476, 477, 482, 483, 487, 491, 495,\n",
       "       497, 502, 504, 509, 511, 513, 524, 528, 529, 538, 541, 548, 549,\n",
       "       551, 552, 557, 558, 562, 568, 584, 585, 588, 591, 595, 599, 600,\n",
       "       604, 607, 610, 613, 614, 617, 618, 619, 628, 631, 632, 633, 635,\n",
       "       648, 659, 660, 669, 674, 675, 677, 678, 681, 694, 701, 704, 706,\n",
       "       707, 708, 709, 710, 711, 712, 713, 717, 720, 721, 725, 726, 729,\n",
       "       732, 733, 734, 741, 742, 744, 747, 749, 751, 752, 755, 757, 761,\n",
       "       766, 769, 770, 774, 775, 777, 784, 785, 786, 787, 788, 789, 792,\n",
       "       800, 801, 802, 803, 804, 805, 808, 816, 817, 818, 820, 821, 826,\n",
       "       827, 828, 846, 849, 851, 853, 854, 857, 858, 863, 864, 867, 868,\n",
       "       875, 877, 878, 882, 889, 891, 894, 895, 912, 913, 915, 916, 921])"
      ]
     },
     "execution_count": 56,
     "metadata": {},
     "output_type": "execute_result"
    }
   ],
   "source": [
    "# unique() is used to remove duplication between jobs that have multiple \n",
    "# senior defining titles\n",
    "pd.Series(senior_indices).unique()"
   ]
  },
  {
   "cell_type": "code",
   "execution_count": 57,
   "metadata": {
    "collapsed": true
   },
   "outputs": [],
   "source": [
    "# mapping senior jobs to target = 1\n",
    "df['target'] = 0\n",
    "df.loc[pd.Series(senior_indices).unique(), 'target'] = 1"
   ]
  },
  {
   "cell_type": "code",
   "execution_count": 58,
   "metadata": {},
   "outputs": [
    {
     "data": {
      "text/plain": [
       "RandomForestClassifier(bootstrap=True, class_weight=None, criterion='gini',\n",
       "            max_depth=None, max_features='auto', max_leaf_nodes=None,\n",
       "            min_impurity_split=1e-07, min_samples_leaf=1,\n",
       "            min_samples_split=2, min_weight_fraction_leaf=0.0,\n",
       "            n_estimators=100, n_jobs=1, oob_score=False, random_state=101,\n",
       "            verbose=0, warm_start=False)"
      ]
     },
     "execution_count": 58,
     "metadata": {},
     "output_type": "execute_result"
    }
   ],
   "source": [
    "rfc = RandomForestClassifier(n_estimators = 100, random_state = 101)\n",
    "rfc.fit(tf_model, df['target'])"
   ]
  },
  {
   "cell_type": "code",
   "execution_count": 59,
   "metadata": {},
   "outputs": [
    {
     "data": {
      "text/html": [
       "<div>\n",
       "<style>\n",
       "    .dataframe thead tr:only-child th {\n",
       "        text-align: right;\n",
       "    }\n",
       "\n",
       "    .dataframe thead th {\n",
       "        text-align: left;\n",
       "    }\n",
       "\n",
       "    .dataframe tbody tr th {\n",
       "        vertical-align: top;\n",
       "    }\n",
       "</style>\n",
       "<table border=\"1\" class=\"dataframe\">\n",
       "  <thead>\n",
       "    <tr style=\"text-align: right;\">\n",
       "      <th>predictions</th>\n",
       "      <th>0</th>\n",
       "      <th>1</th>\n",
       "      <th>All</th>\n",
       "    </tr>\n",
       "    <tr>\n",
       "      <th>actual</th>\n",
       "      <th></th>\n",
       "      <th></th>\n",
       "      <th></th>\n",
       "    </tr>\n",
       "  </thead>\n",
       "  <tbody>\n",
       "    <tr>\n",
       "      <th>0</th>\n",
       "      <td>675</td>\n",
       "      <td>0</td>\n",
       "      <td>675</td>\n",
       "    </tr>\n",
       "    <tr>\n",
       "      <th>1</th>\n",
       "      <td>2</td>\n",
       "      <td>245</td>\n",
       "      <td>247</td>\n",
       "    </tr>\n",
       "    <tr>\n",
       "      <th>All</th>\n",
       "      <td>677</td>\n",
       "      <td>245</td>\n",
       "      <td>922</td>\n",
       "    </tr>\n",
       "  </tbody>\n",
       "</table>\n",
       "</div>"
      ],
      "text/plain": [
       "predictions    0    1  All\n",
       "actual                    \n",
       "0            675    0  675\n",
       "1              2  245  247\n",
       "All          677  245  922"
      ]
     },
     "execution_count": 59,
     "metadata": {},
     "output_type": "execute_result"
    }
   ],
   "source": [
    "predictions_rfc = rfc.predict(tf_model)\n",
    "pred_prob_rfc = rfc.predict_proba(tf_model)\n",
    "pd.crosstab(df['target'], predictions_rfc, rownames = ['actual'], \n",
    "            colnames = ['predictions'], margins = True)"
   ]
  },
  {
   "cell_type": "code",
   "execution_count": 60,
   "metadata": {},
   "outputs": [
    {
     "name": "stdout",
     "output_type": "stream",
     "text": [
      "2 misclassifications\n",
      "9978 percent accurate\n"
     ]
    }
   ],
   "source": [
    "count = 0\n",
    "for pred, true in zip(predictions_rfc, df['target']):\n",
    "    if pred != true:\n",
    "        count += 1\n",
    "print(count, 'misclassifications')\n",
    "print((str((df.shape[0] - count) / df.shape[0]))[2:6], 'percent accurate')"
   ]
  },
  {
   "cell_type": "code",
   "execution_count": 61,
   "metadata": {},
   "outputs": [
    {
     "data": {
      "text/plain": [
       "(245, 0, 675, 2)"
      ]
     },
     "execution_count": 61,
     "metadata": {},
     "output_type": "execute_result"
    }
   ],
   "source": [
    "tp = np.sum((df['target'] == 1) & (predictions_rfc == 1))\n",
    "fp = np.sum((df['target'] == 0) & (predictions_rfc == 1))\n",
    "tn = np.sum((df['target'] == 0) & (predictions_rfc == 0))\n",
    "fn = np.sum((df['target'] == 1) & (predictions_rfc == 0))\n",
    "tp, fp, tn, fn"
   ]
  },
  {
   "cell_type": "code",
   "execution_count": 62,
   "metadata": {
    "collapsed": true
   },
   "outputs": [],
   "source": [
    "df_prob_rfc = pd.DataFrame(data = pred_prob_rfc, columns = ['false', 'true'])"
   ]
  },
  {
   "cell_type": "code",
   "execution_count": 63,
   "metadata": {
    "collapsed": true
   },
   "outputs": [],
   "source": [
    "# good classification of Senior vs Non-Senior"
   ]
  },
  {
   "cell_type": "code",
   "execution_count": 64,
   "metadata": {},
   "outputs": [
    {
     "data": {
      "image/png": "[encoded data removed]",
      "text/plain": [
       "<matplotlib.figure.Figure at 0x10f42ca90>"
      ]
     },
     "metadata": {
      "image/png": {
       "height": 505,
       "width": 509
      }
     },
     "output_type": "display_data"
    }
   ],
   "source": [
    "fpr, tpr, _ = roc_curve(df['target'], df_prob_rfc['true'])\n",
    "roc_auc = auc(fpr, tpr)\n",
    "\n",
    "plt.figure(figsize=[8,8])\n",
    "plt.plot(fpr, tpr, label='ROC curve (area = %0.2f)' % roc_auc, linewidth=4)\n",
    "plt.plot([0, 1], [0, 1], 'k--', linewidth=4)\n",
    "plt.xlim([-0.05, 1.0])\n",
    "plt.ylim([-0.05, 1.05])\n",
    "plt.xlabel('False Positive Rate', fontsize=18)\n",
    "plt.ylabel('True Positive Rate', fontsize=18)\n",
    "\n",
    "plt.title('Receiver Operating Curve Random Forest', fontsize=18)\n",
    "plt.legend(loc=\"lower right\")\n",
    "plt.show()"
   ]
  },
  {
   "cell_type": "code",
   "execution_count": 65,
   "metadata": {},
   "outputs": [
    {
     "data": {
      "text/plain": [
       "6765    0.021395\n",
       "4259    0.011230\n",
       "4262    0.009079\n",
       "4264    0.005483\n",
       "922     0.005000\n",
       "1850    0.004079\n",
       "5971    0.004005\n",
       "6023    0.003956\n",
       "228     0.003869\n",
       "6388    0.003807\n",
       "dtype: float64"
      ]
     },
     "execution_count": 65,
     "metadata": {},
     "output_type": "execute_result"
    }
   ],
   "source": [
    "pd.Series(rfc.feature_importances_).sort_values(ascending = False).head(10)"
   ]
  },
  {
   "cell_type": "markdown",
   "metadata": {},
   "source": [
    "### Identifying features which differentiate Data Science jobs and Non-Data Science jobs"
   ]
  },
  {
   "cell_type": "code",
   "execution_count": 66,
   "metadata": {
    "collapsed": true
   },
   "outputs": [],
   "source": [
    "# re-instantiating jobs dataframe\n",
    "df = pd.read_csv('second_scrape_w_text.csv', index_col=0)\n",
    "# renaming target column because text_frame has a target feature\n",
    "df['target_label'] = df['file'].apply(lambda x: 'data-science' if x != 'business-analyst' else x)\n",
    "# mapping the dev jobs to be non-data science jobs\n",
    "df.loc[pd.Series(developer_indices).unique(), 'target_label'] = 1"
   ]
  },
  {
   "cell_type": "code",
   "execution_count": 67,
   "metadata": {
    "collapsed": true
   },
   "outputs": [],
   "source": [
    "df = df[['target_label', 'job_text']]"
   ]
  },
  {
   "cell_type": "code",
   "execution_count": 68,
   "metadata": {
    "collapsed": true
   },
   "outputs": [],
   "source": [
    "# creating separate dataframes for Data Science and Non-Data Science\n",
    "ds = df[df['target_label'] == 'data-science'].copy()\n",
    "ba = df[df['target_label'] == 'business-analyst'].copy()\n",
    "\n",
    "ds.reset_index(inplace = True, drop = True)\n",
    "ba.reset_index(inplace = True, drop = True)"
   ]
  },
  {
   "cell_type": "code",
   "execution_count": 69,
   "metadata": {
    "collapsed": true
   },
   "outputs": [],
   "source": [
    "# creating sparse matrix dataframe of job text relating to Data Science only\n",
    "tf = TfidfVectorizer(stop_words='english')\n",
    "temp_frame1 = pd.DataFrame(tf.fit_transform(ds['job_text']).todense(),\n",
    "                          columns = tf.get_feature_names())\n",
    "\n",
    "ds = pd.concat([ds, temp_frame1], axis = 1)"
   ]
  },
  {
   "cell_type": "code",
   "execution_count": 70,
   "metadata": {
    "collapsed": true
   },
   "outputs": [],
   "source": [
    "# creating sparse matrix dataframe of job text relating to Non-Data Science only\n",
    "tf = TfidfVectorizer(stop_words='english')\n",
    "temp_frame1 = pd.DataFrame(tf.fit_transform(ba['job_text']).todense(),\n",
    "                          columns = tf.get_feature_names())\n",
    "\n",
    "ba = pd.concat([ba, temp_frame1], axis = 1)"
   ]
  },
  {
   "cell_type": "code",
   "execution_count": 71,
   "metadata": {
    "collapsed": true
   },
   "outputs": [],
   "source": [
    "# adding the values of the two sparse matrices together, stroing results as a dictionary sorted from highest CUMULATIVE value to lowest\n",
    "tf_d = pd.Series.to_dict((ds.iloc[:,2:].sum() + ba.iloc[:,2:].sum()).sort_values(ascending = False))"
   ]
  },
  {
   "cell_type": "code",
   "execution_count": 72,
   "metadata": {},
   "outputs": [
    {
     "data": {
      "text/plain": [
       "{'data': 67.689607330575839,\n",
       " 'business': 56.597931874154895,\n",
       " 'experience': 48.153946352258842,\n",
       " 'skills': 31.867330339041182,\n",
       " 'team': 30.343426545018453,\n",
       " 'role': 30.275186801290793,\n",
       " 'work': 26.732652413319052,\n",
       " 'analysis': 26.064080993607419,\n",
       " 'strong': 24.654862582817007,\n",
       " 'working': 24.569992527534044,\n",
       " 'research': 24.316240233750101,\n",
       " 'position': 21.175290026156102,\n",
       " 'analytics': 21.020862630430795,\n",
       " 'management': 20.978134581603143,\n",
       " 'analyst': 20.701583383195956,\n",
       " 'projects': 20.616232086242938,\n",
       " 'apply': 20.555955452640774,\n",
       " 'customer': 20.454003995594235,\n",
       " 'insights': 20.311588837257883,\n",
       " 'systems': 20.012382471068786,\n",
       " 'information': 19.714547840048461,\n",
       " 'learning': 19.431087852617345,\n",
       " 'client': 19.166473621958762,\n",
       " 'development': 18.692868451202038,\n",
       " 'key': 18.670607754585177,\n",
       " 'science': 18.420163517422978,\n",
       " 'ability': 18.366393992145525,\n",
       " 'financial': 18.040698860655745,\n",
       " 'stakeholders': 18.017152516719094,\n",
       " 'technical': 17.516673095957813,\n",
       " 'marketing': 17.412564240907173,\n",
       " 'requirements': 17.207446185173339,\n",
       " 'knowledge': 16.949482732314607,\n",
       " 'services': 16.650016903952881,\n",
       " 'opportunity': 16.575967299254017,\n",
       " 'support': 16.351353006725379,\n",
       " 'new': 16.328064260831788,\n",
       " 'reporting': 16.306705978673985,\n",
       " 'project': 16.295203033634667,\n",
       " 'environment': 16.086226946634547,\n",
       " 'high': 15.877381146155841,\n",
       " 'solutions': 15.832002700543995,\n",
       " 'company': 15.764935473370299,\n",
       " 'process': 15.75119049972756,\n",
       " 'using': 15.729018699987558,\n",
       " 'modelling': 15.14159168325768,\n",
       " 'analytical': 14.920664114768638,\n",
       " 'machine': 14.876315777789484,\n",
       " 'senior': 14.817122553332521,\n",
       " 'required': 14.45398662508291,\n",
       " 'looking': 14.411564445895522,\n",
       " 'highly': 14.321250791901626,\n",
       " 'software': 14.320116183672422,\n",
       " 'sql': 14.168216446091604,\n",
       " 'years': 14.166712372131276,\n",
       " 'commercial': 14.052536341416666,\n",
       " 'end': 13.83159834906461,\n",
       " 'large': 13.657600832736922,\n",
       " 'including': 13.584423193791229,\n",
       " 'develop': 13.512151758579385,\n",
       " 'big': 13.50420136495941,\n",
       " 'organisation': 13.341560785257444,\n",
       " 'technology': 13.224345136110784,\n",
       " 'models': 13.214955760948351,\n",
       " 'excellent': 13.172712890443123,\n",
       " 'provide': 13.118484610714262,\n",
       " 'product': 13.077471138300666,\n",
       " 'join': 13.025686234649164,\n",
       " 'design': 13.00310558830558,\n",
       " 'successful': 12.939305565867125,\n",
       " 'leading': 12.839523416699315,\n",
       " 'performance': 12.72819283543577,\n",
       " 'based': 12.635905841414473,\n",
       " 'communication': 12.516963689773199,\n",
       " 'com': 12.465728814020554,\n",
       " 'industry': 12.451986404485735,\n",
       " 'applications': 12.33106851446853,\n",
       " 'engineering': 12.027252556039672,\n",
       " 'clients': 11.936999295387782,\n",
       " 'processes': 11.92999776805803,\n",
       " 'complex': 11.895393889088112,\n",
       " 'tools': 11.871923325765298,\n",
       " 'statistical': 11.853871777836703,\n",
       " 'digital': 11.851759918535054,\n",
       " 'discipline': 11.690950364736478,\n",
       " 'sales': 11.626545159289281,\n",
       " 'advanced': 11.562180823807907,\n",
       " 'candidate': 11.383740382756589,\n",
       " 'market': 11.360902937653304,\n",
       " 'delivery': 11.348502939843492,\n",
       " 'finance': 11.249635569927312,\n",
       " 'career': 11.168681283727697,\n",
       " 'responsibilities': 11.008787047574884,\n",
       " 'application': 10.909486858498841,\n",
       " 'level': 10.848505638840697,\n",
       " 'internal': 10.844187094534067,\n",
       " 'bi': 10.825399776929096,\n",
       " 'understanding': 10.79469628319309,\n",
       " 'areas': 10.77844630256074,\n",
       " 'testing': 10.742945401861689,\n",
       " 'agile': 10.640553694435088,\n",
       " 'teams': 10.631133059729901,\n",
       " 'lead': 10.578911558811601,\n",
       " 'use': 10.494322642178172,\n",
       " 'service': 10.422607404211361,\n",
       " 'au': 10.385706538005254,\n",
       " 'opportunities': 10.352172268282924,\n",
       " 'time': 10.251311682517365,\n",
       " 'quality': 10.244417769234969,\n",
       " 'consulting': 10.16595883434953,\n",
       " 'techniques': 10.045260571716733,\n",
       " 'scientist': 10.036898448383832,\n",
       " 'python': 10.011438506982406,\n",
       " 'drive': 9.9165497124139801,\n",
       " 'help': 9.9107860906312304,\n",
       " 'need': 9.90892807302194,\n",
       " 'range': 9.9005422827314327,\n",
       " 'reports': 9.8905446853844605,\n",
       " 'strategic': 9.8431014722620898,\n",
       " 'contact': 9.809722792699537,\n",
       " 'like': 9.7985688155308797,\n",
       " 'able': 9.7331714994419229,\n",
       " 'driven': 9.6678122778467319,\n",
       " 'ensure': 9.6592118932656668,\n",
       " 'include': 9.6196051280387636,\n",
       " 'technologies': 9.5966332609206937,\n",
       " 'build': 9.5919068484586312,\n",
       " 'deliver': 9.5560698267616129,\n",
       " 'understand': 9.545976443683962,\n",
       " 'background': 9.4696982274543089,\n",
       " 'best': 9.4498851787398443,\n",
       " 'focus': 9.3833557641968497,\n",
       " 'building': 9.3783253012413645,\n",
       " 'people': 9.3715815931563728,\n",
       " 'exciting': 9.3578999237122211,\n",
       " 'sydney': 9.3529787456688336,\n",
       " 'growth': 9.3130686718909033,\n",
       " 'developing': 9.2983757028456502,\n",
       " 'delivering': 9.2978318225531922,\n",
       " 'responsible': 9.2407542625210546,\n",
       " 'statistics': 9.2277397239337926,\n",
       " 'providing': 9.1724390077709135,\n",
       " 'relevant': 9.1555448385919256,\n",
       " 'global': 9.1044247463851313,\n",
       " 'experienced': 9.0949689076156517,\n",
       " 'proven': 9.0560872001508947,\n",
       " 'assist': 8.9991250003840868,\n",
       " 'growing': 8.9671905412655306,\n",
       " 'products': 8.8974740993107986,\n",
       " 'click': 8.8968323768141016,\n",
       " 'decision': 8.8883214691449588,\n",
       " 'australian': 8.8770726094330676,\n",
       " 'good': 8.821934211632275,\n",
       " 'training': 8.808116832397328,\n",
       " 'candidates': 8.7862689348498968,\n",
       " 'customers': 8.6969670083511765,\n",
       " 'great': 8.557582889914034,\n",
       " 'manager': 8.4766989406392206,\n",
       " 'job': 8.4544637517810539,\n",
       " 'platform': 8.3087265274416193,\n",
       " 'strategy': 8.3015543758772594,\n",
       " 'demonstrated': 8.2592925851090353,\n",
       " 'contribute': 8.2440894834482261,\n",
       " 'online': 8.1953266295581759,\n",
       " 'manage': 8.176848317918525,\n",
       " 'computer': 8.1706192945212077,\n",
       " 'stakeholder': 8.1688601086492056,\n",
       " 'needs': 8.1037443904069804,\n",
       " 'make': 8.0927689365066087,\n",
       " 'excel': 8.0836139769207875,\n",
       " 'multiple': 8.0806933833400638,\n",
       " 'degree': 8.0157593337930511,\n",
       " 'problems': 7.9717688189098119,\n",
       " 'innovative': 7.9573143412080665,\n",
       " 'external': 7.9508805723420117,\n",
       " 'implementation': 7.9382685428502819,\n",
       " 'resume': 7.9152446961175613,\n",
       " 'operations': 7.8739342089840889,\n",
       " 'following': 7.8200935958494693,\n",
       " 'predictive': 7.7054278182649831,\n",
       " 'related': 7.7003075196992317,\n",
       " 'identify': 7.6966365238786967,\n",
       " 'essential': 7.6962289039450509,\n",
       " 'closely': 7.6319982805270534,\n",
       " 'benefits': 7.6147414526166584,\n",
       " 'change': 7.6099440175125297,\n",
       " 'fast': 7.5754663963447104,\n",
       " 'australia': 7.5474972912508189,\n",
       " '02': 7.5107512323882588,\n",
       " 'email': 7.4931259288584062,\n",
       " 'tableau': 7.4748080521175133,\n",
       " 'existing': 7.4688012739342362,\n",
       " 'profile': 7.4565904226249682,\n",
       " 'send': 7.4476996958586819,\n",
       " 'value': 7.4394982862072094,\n",
       " 'visualisation': 7.35829933532123,\n",
       " 'world': 7.357601483993581,\n",
       " 'methods': 7.3548004842433974,\n",
       " 'sas': 7.3506291301710673,\n",
       " 'infrastructure': 7.3423225839702724,\n",
       " 'documentation': 7.3421910015555163,\n",
       " 'culture': 7.2920180488097142,\n",
       " 'seeking': 7.2847263525865298,\n",
       " 'ideally': 7.2462390028153454,\n",
       " 'right': 7.2344032039027368,\n",
       " 'policy': 7.2342088309718822,\n",
       " 'group': 7.2340900608271737,\n",
       " 'improve': 7.2332863320950107,\n",
       " 'offer': 7.2307795732047113,\n",
       " 'enterprise': 7.2120657852529391,\n",
       " 'sets': 7.1611090559163664,\n",
       " 'recruitment': 7.1560919177388822,\n",
       " 'mining': 7.1497673938258606,\n",
       " 'solution': 7.0790816792963511,\n",
       " 'intelligence': 7.0410527486546046,\n",
       " 'cv': 7.0167545317687212,\n",
       " 'analyse': 6.9539928070001693,\n",
       " 'extensive': 6.8870215142648821,\n",
       " 'real': 6.883588857167048,\n",
       " 'recommendations': 6.8821747443996841,\n",
       " 'professional': 6.8810990637046343,\n",
       " 'privacy': 6.7997561326577243,\n",
       " 'transformation': 6.7828037718358951,\n",
       " 'improvement': 6.7656865945628866,\n",
       " 'www': 6.7490557815389991,\n",
       " 'initiatives': 6.7463660126979512,\n",
       " 'button': 6.6761251732093605,\n",
       " 'user': 6.6667930201923529,\n",
       " 'making': 6.6552210625194874,\n",
       " 'activities': 6.6226633730483186,\n",
       " 'currently': 6.6175908147913685,\n",
       " 'day': 6.5912859210113703,\n",
       " 'minimum': 6.5842957937752278,\n",
       " 'functional': 6.5732872934570867,\n",
       " 'units': 6.5208070691566071,\n",
       " 'capabilities': 6.5031468718570888,\n",
       " 'create': 6.4926370065591064,\n",
       " 'managing': 6.4303047467261756,\n",
       " 'passionate': 6.4042369378631436,\n",
       " 'database': 6.3944308852513885,\n",
       " 'plus': 6.3816500409801318,\n",
       " 'exposure': 6.3547518175044519,\n",
       " 'health': 6.3315158954163282,\n",
       " 'learn': 6.3296793646979665,\n",
       " 'program': 6.3198149027079387,\n",
       " 'want': 6.3059842020373704,\n",
       " 'trends': 6.2570106246460879,\n",
       " 'considered': 6.2496050362792204,\n",
       " 'capability': 6.2304254367437739,\n",
       " 'quantitative': 6.212375909736128,\n",
       " 'appropriate': 6.2104926847497133,\n",
       " 'office': 6.1001068814340016,\n",
       " 'outcomes': 6.0611315054116712,\n",
       " 'agency': 6.0336796851925563,\n",
       " 'test': 6.0322114802256088,\n",
       " 'hands': 5.991856718491249,\n",
       " 'results': 5.9901972311086347,\n",
       " 'methodologies': 5.9797093528117546,\n",
       " 'practice': 5.9696222427111936,\n",
       " 'effectively': 5.9598361025237008,\n",
       " 'written': 5.9537788830628902,\n",
       " 'strength': 5.9424883944894074,\n",
       " 'mathematics': 5.9364418502499969,\n",
       " 'relationships': 5.9180044976154527,\n",
       " 'youll': 5.9092900237357249,\n",
       " 'implement': 5.9072527110608775,\n",
       " 'staff': 5.9012229421951128,\n",
       " 'area': 5.8914422284203658,\n",
       " 'problem': 5.8525232515961489,\n",
       " 'government': 5.8391365619143469,\n",
       " 'similar': 5.8211281418242331,\n",
       " 'issues': 5.8188520690647607,\n",
       " 'scientists': 5.8035974134113619,\n",
       " 'planning': 5.7963405169352971,\n",
       " 'risk': 5.7912790299427197,\n",
       " 'grow': 5.7595633675869315,\n",
       " 'salary': 5.7520997915987655,\n",
       " 'microsoft': 5.7200757636300228,\n",
       " 'qualifications': 5.6968258111846195,\n",
       " 'salesforce': 5.6919087057874851,\n",
       " 'operational': 5.6612841769558315,\n",
       " 'decisions': 5.6462832066491782,\n",
       " 'presentation': 5.6323116708959189,\n",
       " 'success': 5.6310693339976154,\n",
       " 'brand': 5.6233226123208073,\n",
       " 'firm': 5.6111670390074115,\n",
       " 'implementing': 5.6053400701057061,\n",
       " 'established': 5.602517670556991,\n",
       " 'preferred': 5.5786183008175474,\n",
       " 'resources': 5.5508217151344539,\n",
       " 'cloud': 5.5371641062013071,\n",
       " 'leader': 5.5224276032026651,\n",
       " 'collaborative': 5.5032863168898878,\n",
       " 'future': 5.5023310497493094,\n",
       " 'previous': 5.5011268603590002,\n",
       " 'leadership': 5.491410898941405,\n",
       " 'cbd': 5.4888543752217522,\n",
       " 'architecture': 5.4829783131137795,\n",
       " 'ongoing': 5.4307942270995886,\n",
       " 'set': 5.4227209594228984,\n",
       " 'accounting': 5.4189543902310744,\n",
       " 'education': 5.3991195120604605,\n",
       " 'solving': 5.3799867742384695,\n",
       " 'performing': 5.353569862810148,\n",
       " 'present': 5.3521959149384708,\n",
       " 'expertise': 5.3364008610965081,\n",
       " 'life': 5.3360250394540198,\n",
       " 'interested': 5.3336247661376994,\n",
       " 'dynamic': 5.3311741196258646,\n",
       " 'desirable': 5.3267267909128613,\n",
       " 'spark': 5.3205782548376535,\n",
       " 'ideal': 5.3158261920465861,\n",
       " 'creating': 5.3089745262153087,\n",
       " 'focused': 5.3066684238023356,\n",
       " 'web': 5.3015393375817448,\n",
       " 'automation': 5.2930483645420621,\n",
       " 'innovation': 5.2626280633296378,\n",
       " 'sources': 5.256056383747346,\n",
       " 'address': 5.2378550783728182,\n",
       " 'important': 5.2363745153184,\n",
       " 'permanent': 5.2286971383339402,\n",
       " 'balance': 5.2037255907880802,\n",
       " 'supporting': 5.2034057243945924,\n",
       " 'space': 5.1846050982165721,\n",
       " 'australias': 5.1806964222333853,\n",
       " 'users': 5.1698746985400028,\n",
       " 'campaign': 5.1565491392384279,\n",
       " 'tech': 5.1486737231169784,\n",
       " 'managers': 5.1452593112292231,\n",
       " 'plan': 5.1411504341713608,\n",
       " 'audit': 5.1339764886263133,\n",
       " 'scale': 5.1216512449373477,\n",
       " 'regarded': 5.1108851049544821,\n",
       " 'approach': 5.0997993016119532,\n",
       " 'personal': 5.0953284436379382,\n",
       " 'engage': 5.0894089439549326,\n",
       " 'record': 5.0861665046310334,\n",
       " 'engagement': 5.0681603156856099,\n",
       " 'dashboards': 5.0532133597412683,\n",
       " 'largest': 5.046196646016269,\n",
       " 'deep': 5.045226980752024,\n",
       " 'confidential': 5.0289840767029439,\n",
       " 'practices': 5.0214396765656799,\n",
       " 'term': 5.01094723715347,\n",
       " 'current': 5.0107863033016855,\n",
       " 'non': 5.0051180304833363,\n",
       " 'note': 4.9988858391488611,\n",
       " 'diverse': 4.9975821272917234,\n",
       " 'today': 4.9899854326190383,\n",
       " 'engineers': 4.9874474143261729,\n",
       " 'maintain': 4.9709236894671562,\n",
       " 'start': 4.9592555203623325,\n",
       " 'retail': 4.9496287899979263,\n",
       " 'writing': 4.9489187125761323,\n",
       " 'passion': 4.9415677669753348,\n",
       " 'variety': 4.9209679488549112,\n",
       " 'integration': 4.9114376068801242,\n",
       " 'document': 4.8924625691942722,\n",
       " 'pricing': 4.8807682931879404,\n",
       " 'portfolio': 4.874453605701385,\n",
       " 'credit': 4.8706336586757644,\n",
       " 'small': 4.8701077158416979,\n",
       " 'latest': 4.8667996357454415,\n",
       " 'class': 4.8580521153635594,\n",
       " 'java': 4.839174462102882,\n",
       " 'flexible': 4.8274728349141256,\n",
       " 'programming': 4.8249372368041206,\n",
       " 'qualified': 4.8049297941114997,\n",
       " 'analysts': 4.7944435115107096,\n",
       " 'partners': 4.7909533562388269,\n",
       " 'scala': 4.7873709769580071,\n",
       " 'produce': 4.7860629103925723,\n",
       " 'http': 4.7728336229733497,\n",
       " 'number': 4.770955063072531,\n",
       " 'self': 4.749934074447336,\n",
       " 'nsw': 4.7428068256493514,\n",
       " 'used': 4.7376322246057834,\n",
       " 'major': 4.7354052059351286,\n",
       " 'processing': 4.7294513548085213,\n",
       " 'gathering': 4.7177674402670977,\n",
       " 'algorithms': 4.7162271258698665,\n",
       " 'levels': 4.7139514299599874,\n",
       " 'wide': 4.7116262459888798,\n",
       " 'field': 4.7060567196308973,\n",
       " 'ideas': 4.6995528392278523,\n",
       " 'media': 4.6975557985232994,\n",
       " 'impact': 4.6956895064303943,\n",
       " 'paced': 4.6829198698918297,\n",
       " 'date': 4.675236099749287,\n",
       " 'outstanding': 4.6566770593043048,\n",
       " 'communicate': 4.6464651055723536,\n",
       " 'actionable': 4.6396794292196333,\n",
       " 'description': 4.6326710641306832,\n",
       " 'duties': 4.6312964877422047,\n",
       " 'changes': 4.6255154947428192,\n",
       " 'ensuring': 4.6049071234910866,\n",
       " 'banking': 4.6040913725943025,\n",
       " 'ad': 4.5798990517094742,\n",
       " 'energy': 4.5791554417911922,\n",
       " 'driving': 4.5756774923332397,\n",
       " 'touch': 4.5750924831016881,\n",
       " 'different': 4.5729880090229091,\n",
       " 'head': 4.5587463216217952,\n",
       " 'verbal': 4.5535162244906893,\n",
       " 'superannuation': 4.5510933301828285,\n",
       " 'tertiary': 4.5464015845570209,\n",
       " 'open': 4.5456999267575036,\n",
       " 'line': 4.5395022017817332,\n",
       " 'created': 4.5383462448514189,\n",
       " 'university': 4.5361551378034672,\n",
       " 'discussion': 4.5346165477039602,\n",
       " 'comfortable': 4.5334927289202058,\n",
       " 'engineer': 4.5289647748114863,\n",
       " 'edge': 4.5234179982072105,\n",
       " 'motivated': 4.4984447074499325,\n",
       " 'exceptional': 4.4838213894250565,\n",
       " 'platforms': 4.4808160009211075,\n",
       " 'forecasting': 4.4803489060621198,\n",
       " 'close': 4.4789940789496114,\n",
       " 'way': 4.4704638629659721,\n",
       " 'come': 4.4704615259510767,\n",
       " 'potential': 4.4609807917094813,\n",
       " 'international': 4.4483719062476865,\n",
       " 'analysing': 4.4435186029546365,\n",
       " 'insurance': 4.4399217863145672,\n",
       " 'facing': 4.4357987758068553,\n",
       " 'monthly': 4.4315218671591534,\n",
       " 'involved': 4.42908610159171,\n",
       " 'security': 4.411624276885421,\n",
       " 'academic': 4.4092322175035719,\n",
       " '03': 4.3815782816746065,\n",
       " 'consultant': 4.367211753074935,\n",
       " 'employment': 4.3499355001180593,\n",
       " 'various': 4.3449038996682585,\n",
       " 'solid': 4.3419429790993789,\n",
       " 'love': 4.3236388194000419,\n",
       " 'unique': 4.3234743876925323,\n",
       " 'offers': 4.317039869677572,\n",
       " 'attention': 4.3106556904033253,\n",
       " 'junior': 4.307785948695809,\n",
       " 'basis': 4.3011082085845587,\n",
       " 'individual': 4.3010447247839068,\n",
       " 'expert': 4.2856556090261044,\n",
       " 'effective': 4.2781614804046795,\n",
       " 'mobile': 4.2688973853359666,\n",
       " 'location': 4.2615913941469996,\n",
       " 'concepts': 4.2476872115029058,\n",
       " 'specialist': 4.2248622687441157,\n",
       " 'critical': 4.2157310117955502,\n",
       " 'super': 4.1817475415857377,\n",
       " 'forward': 4.1813036036819975,\n",
       " 'track': 4.1761983847238167,\n",
       " 'addition': 4.1731749447229927,\n",
       " 'order': 4.1631081721106344,\n",
       " 'available': 4.1516367673942316,\n",
       " 'package': 4.1486089709188869,\n",
       " 'possess': 4.1471334718803448,\n",
       " 'ba': 4.1424145773201975,\n",
       " 'applicants': 4.142005283748122,\n",
       " 'whilst': 4.1373049372843997,\n",
       " 'post': 4.1294078719525169,\n",
       " 'corporate': 4.1293036327858754,\n",
       " 'details': 4.1175133870282554,\n",
       " 'plans': 4.1136890471242928,\n",
       " 'word': 4.1037131211823619,\n",
       " 'person': 4.1009813984605374,\n",
       " 'month': 4.096879444169085,\n",
       " 'newly': 4.0946673975526604,\n",
       " 'standards': 4.0890715487927185,\n",
       " 'maintenance': 4.0853197674971593,\n",
       " 'maintaining': 4.0840907080477784,\n",
       " 'hoc': 4.0837456722022569,\n",
       " 'strategies': 4.0737547425284912,\n",
       " 'involving': 4.0574651272262692,\n",
       " 'ms': 4.0556459657099193,\n",
       " 'improving': 4.0485954224672209,\n",
       " 'limited': 4.033280157032924,\n",
       " 'cutting': 4.0203524861893705,\n",
       " 'criteria': 4.01866759542526,\n",
       " 'source': 4.0091657792543316,\n",
       " 'consultancy': 4.0040032678523083,\n",
       " 'achieve': 3.999641751865199,\n",
       " 'public': 3.9989063086247052,\n",
       " 'selection': 3.9949824919593162,\n",
       " 'acumen': 3.9739348077880061,\n",
       " 'link': 3.9554916625059242,\n",
       " 'segmentation': 3.9276914766678286,\n",
       " 'review': 3.9246628288550705,\n",
       " 'accordance': 3.9212341843410421,\n",
       " 'competitive': 3.9091212343247341,\n",
       " 'define': 3.9081932713980247,\n",
       " 'creative': 3.9046450568385023,\n",
       " 'disciplines': 3.9016692722552309,\n",
       " 'format': 3.8991855627714616,\n",
       " 'national': 3.8983506959301844,\n",
       " 'applicant': 3.8925128154652491,\n",
       " 'crm': 3.8750559568587422,\n",
       " 'applying': 3.8632342368368491,\n",
       " 'roles': 3.8562308885360581,\n",
       " 'core': 3.8431707323147406,\n",
       " 'programs': 3.8395523755200762,\n",
       " 'bonus': 3.8319740960227238,\n",
       " 'talented': 3.8193943410343856,\n",
       " 'investment': 3.8124395039076999,\n",
       " 'improvements': 3.8038406159084852,\n",
       " 'engaging': 3.7933960865379746,\n",
       " '2017': 3.7922633633391793,\n",
       " 'cases': 3.7917605644983441,\n",
       " 'fantastic': 3.7870551911814507,\n",
       " 'solve': 3.7869672820105751,\n",
       " 'sector': 3.7863008153297493,\n",
       " 'cross': 3.785447466784726,\n",
       " 'submit': 3.7845869301748496,\n",
       " 'worked': 3.7823174416542376,\n",
       " 'challenges': 3.7637037284093626,\n",
       " 'social': 3.7627400374212567,\n",
       " 'sound': 3.7505669193346272,\n",
       " 'vendor': 3.7222284857967058,\n",
       " 'sounds': 3.7154592076123429,\n",
       " 'scope': 3.7120593326745501,\n",
       " 'payroll': 3.7117273264481128,\n",
       " 'relationship': 3.7063770928954503,\n",
       " 'questions': 3.7029117762039814,\n",
       " 'state': 3.6954227548250929,\n",
       " 'bring': 3.6946426160398271,\n",
       " 'developers': 3.6875733997946947,\n",
       " 'contract': 3.6860495695522784,\n",
       " 'meet': 3.6803829307270028,\n",
       " 'department': 3.6782776492918998,\n",
       " 'base': 3.6776411856237106,\n",
       " 'having': 3.673057812704819,\n",
       " 'brisbane': 3.6597458747088361,\n",
       " 'running': 3.647133114039125,\n",
       " 'bangkok': 3.64709711378518,\n",
       " 'model': 3.6443302680596035,\n",
       " 'seek': 3.6409179968456025,\n",
       " 'production': 3.6179853503852772,\n",
       " 'case': 3.6139202897911851,\n",
       " 'significant': 3.611834323502487,\n",
       " 'submitting': 3.6083340274520692,\n",
       " 'power': 3.5969440843225096,\n",
       " 'studies': 3.5967087589355247,\n",
       " 'computing': 3.59557419419049,\n",
       " 'continuous': 3.5918758146829575,\n",
       " 'deliverables': 3.5862301063205972,\n",
       " 'presenting': 3.5827940044193904,\n",
       " 'stories': 3.579184974949829,\n",
       " 'notice': 3.5716384455826691,\n",
       " 'thinking': 3.5705523343198857,\n",
       " 'account': 3.5688293233913644,\n",
       " 'multi': 3.5674540106478494,\n",
       " 'active': 3.5641198909991338,\n",
       " 'designing': 3.5612967771062145,\n",
       " 'hear': 3.5487872175643114,\n",
       " 'acquisition': 3.5477568256218763,\n",
       " 'requirement': 3.5446086115930653,\n",
       " 'presentations': 3.5428131054035967,\n",
       " 'held': 3.538548944666505,\n",
       " 'collaborate': 3.5320884379081434,\n",
       " 'equivalent': 3.5312832573023796,\n",
       " 'mix': 3.5278198736092228,\n",
       " 'things': 3.5165254493641016,\n",
       " 'networks': 3.5096270985633127,\n",
       " 'mapping': 3.4983685084272929,\n",
       " 'advice': 3.4971207200840184,\n",
       " 'etl': 3.4837243414287675,\n",
       " 'efficiency': 3.4782450387101189,\n",
       " 'long': 3.4753482374761071,\n",
       " 'qualification': 3.4739569363855805,\n",
       " 'ownership': 3.4730540520837332,\n",
       " 'melbourne': 3.4542740520470741,\n",
       " 'preparation': 3.4526924616601606,\n",
       " 'timely': 3.4520610106633716,\n",
       " 'mathematical': 3.4303517593128938,\n",
       " 'going': 3.4253164768533946,\n",
       " 'partner': 3.4240008052585216,\n",
       " 'scientific': 3.4238287814518045,\n",
       " 'databases': 3.4179806508490147,\n",
       " 'directly': 3.4171801025482873,\n",
       " 'emerging': 3.4157396556026303,\n",
       " 'specific': 3.4155703249776934,\n",
       " 'report': 3.4127602336470906,\n",
       " 'capacity': 3.4108351077841825,\n",
       " 'broad': 3.4081212725837542,\n",
       " 'businesses': 3.4080322013158453,\n",
       " 'extract': 3.4077255579563621,\n",
       " 'datasets': 3.4057900683057629,\n",
       " 'monitoring': 3.4014608436181413,\n",
       " 'tasks': 3.3998328813043388,\n",
       " 'provides': 3.3941591599502092,\n",
       " 'execute': 3.390683485607644,\n",
       " 'youre': 3.3891182554539618,\n",
       " 'members': 3.3740649745652043,\n",
       " 'server': 3.3716664330936417,\n",
       " 'demonstrate': 3.3675318520775299,\n",
       " 'bluefinresources': 3.3622737767923994,\n",
       " 'translate': 3.3601919498226467,\n",
       " 'influence': 3.3563437471257052,\n",
       " 'identifying': 3.3562763923201975,\n",
       " 'perform': 3.352465153906607,\n",
       " 'insight': 3.3520475615153424,\n",
       " 'requires': 3.34650568305105,\n",
       " 'dont': 3.3398076088884854,\n",
       " 'act': 3.3323624250457815,\n",
       " 'companies': 3.3320668329493879,\n",
       " 'know': 3.3250889772195533,\n",
       " 'collections': 3.3176680608610045,\n",
       " 'collected': 3.3176680608610045,\n",
       " 'consent': 3.3176680608610045,\n",
       " 'disclosed': 3.3176680608610045,\n",
       " 'dynamics': 3.3171690172381307,\n",
       " 'asset': 3.3062161939250774,\n",
       " 'reference': 3.3022423199334616,\n",
       " 'regression': 3.3004402649532008,\n",
       " 'really': 3.2975041439141051,\n",
       " 'findings': 3.294728249875349,\n",
       " 'view': 3.2836262523493569,\n",
       " 'cover': 3.277835771712283,\n",
       " 'advantageous': 3.2736398797077904,\n",
       " 'communications': 3.2701232744827315,\n",
       " 'function': 3.2667085740641526,\n",
       " 'methodology': 3.2573450471798022,\n",
       " 'alternatively': 3.2496456643708154,\n",
       " 'coding': 3.2463080706975949,\n",
       " 'organization': 3.2350420946830623,\n",
       " 'tool': 3.2338813036761138,\n",
       " 'scripts': 3.2177285005364888,\n",
       " 'local': 3.2171618284846808,\n",
       " 'organisations': 3.2134443271438986,\n",
       " 'whats': 3.2117259603873847,\n",
       " 'needed': 3.207733129380836,\n",
       " 'interpersonal': 3.2047261429495597,\n",
       " 'packages': 3.1967311979279156,\n",
       " 'run': 3.1892670253239292,\n",
       " 'code': 3.1764368928984226,\n",
       " 'offering': 3.1712708894180892,\n",
       " 'challenging': 3.170795137725603,\n",
       " '10': 3.1651205665848572,\n",
       " 'mid': 3.1575669210089803,\n",
       " '12': 3.156715194721436,\n",
       " 'materials': 3.1543293197114264,\n",
       " 'days': 3.1470253125200811,\n",
       " 'rapidly': 3.146610314326951,\n",
       " 'markets': 3.1444932081132277,\n",
       " 'advertising': 3.1348963578385209,\n",
       " 'progress': 3.1346836599415635,\n",
       " 'enhance': 3.1307336890048276,\n",
       " 'direction': 3.1275237537677496,\n",
       " 'feel': 3.1263647610389969,\n",
       " 'functions': 3.124975503151953,\n",
       " 'chance': 3.1133127711156185,\n",
       " 'visualisations': 3.1095201215375949,\n",
       " 'year': 3.108510474514159,\n",
       " 'control': 3.1057265004273753,\n",
       " 'undertake': 3.1056165765141568,\n",
       " 'partnering': 3.1029583790386677,\n",
       " 'clicking': 3.1015296126792067,\n",
       " 'ca': 3.094515962165898,\n",
       " 'procedures': 3.0938461031642355,\n",
       " 'listed': 3.0910596605722707,\n",
       " 'leaders': 3.089048428328701,\n",
       " 'metrics': 3.0788912418338557,\n",
       " 'skill': 3.0738099055990151,\n",
       " 'erp': 3.0699322892807701,\n",
       " 'known': 3.0603676708022856,\n",
       " 'organisational': 3.0596450750321336,\n",
       " 'unit': 3.0538854569589056,\n",
       " 'community': 3.0535438432043742,\n",
       " 'specifications': 3.0433574892728315,\n",
       " 'accurate': 3.0314026155134353,\n",
       " 'responsibility': 3.0254481090901288,\n",
       " 'require': 3.0227989888546691,\n",
       " 'graduate': 3.0217642648980676,\n",
       " 'provided': 3.0215018175041126,\n",
       " 'consult': 3.0137644803495207,\n",
       " 'healthcare': 3.0134280626101724,\n",
       " 'clear': 3.0133902780209514,\n",
       " 'leverage': 3.0102821524064005,\n",
       " 'phd': 2.9900249547322391,\n",
       " 'regular': 2.9883472714112544,\n",
       " 'accounts': 2.9850010903720987,\n",
       " 'objectives': 2.9848350130413364,\n",
       " 'status': 2.9844389336364916,\n",
       " 'division': 2.9776686273524082,\n",
       " 'queries': 2.9673093443798595,\n",
       " 'content': 2.9629162871225088,\n",
       " 'annual': 2.9610121407566083,\n",
       " 'face': 2.9579810391824988,\n",
       " 'aws': 2.9506870433744523,\n",
       " 'tax': 2.9315348625374917,\n",
       " 'approaches': 2.9203956294452764,\n",
       " 'particular': 2.9194318212698636,\n",
       " 'tier': 2.9122341144945523,\n",
       " 'campaigns': 2.9104885531844187,\n",
       " 'hours': 2.9102865940497611,\n",
       " 'optimisation': 2.9101732165367111,\n",
       " 'joining': 2.9036881807200809,\n",
       " 'remuneration': 2.8970160941113692,\n",
       " 'collaboratively': 2.8964172641380976,\n",
       " 'art': 2.8937928179534937,\n",
       " 'conduct': 2.8814756463794726,\n",
       " 'queensland': 2.8768714150482317,\n",
       " 'patterns': 2.8748533553524025,\n",
       " 'sap': 2.8696934694094978,\n",
       " 'disability': 2.8615723288484967,\n",
       " 'transport': 2.8611257129151495,\n",
       " 'attitude': 2.8575921113937888,\n",
       " 'subject': 2.8508041695532427,\n",
       " 'contacted': 2.8501370935238972,\n",
       " 'innovate': 2.8483339232814657,\n",
       " 'coming': 2.8472478942987633,\n",
       " 'environments': 2.8461346947914237,\n",
       " 'warehouse': 2.8442801195860472,\n",
       " 'scrum': 2.8392472698503126,\n",
       " 'operating': 2.8327253830592203,\n",
       " 'structured': 2.827968648364318,\n",
       " 'migration': 2.8233114586140187,\n",
       " 'general': 2.8205760925673409,\n",
       " 'place': 2.8197152379877517,\n",
       " 'goals': 2.8141099258371107,\n",
       " 'involve': 2.8119017763951319,\n",
       " 'better': 2.8113407430610624,\n",
       " 'recent': 2.8099359894341616,\n",
       " 'detailed': 2.8044421659781014,\n",
       " 'manufacturing': 2.7967365186512945,\n",
       " 'heart': 2.795558842702675,\n",
       " 'groups': 2.7875096557339072,\n",
       " 'advantage': 2.7858961035900491,\n",
       " 'vision': 2.7840818853571077,\n",
       " 'modeling': 2.7827012456054443,\n",
       " 'prepare': 2.7785945278379183,\n",
       " 'sell': 2.7465352938215353,\n",
       " 'domains': 2.7414101950369298,\n",
       " 'acting': 2.74070726435684,\n",
       " 'modern': 2.7394781172230633,\n",
       " 'play': 2.735315292591475,\n",
       " 'powerpoint': 2.7348999774342304,\n",
       " 'letter': 2.7344908609432625,\n",
       " 'thailand': 2.7330783010352655,\n",
       " 'friendly': 2.7324606289747897,\n",
       " 'cpa': 2.7309415597017632,\n",
       " 'appoint': 2.7244903880321738,\n",
       " 'consumer': 2.7231015093104176,\n",
       " 'discuss': 2.7101105497019229,\n",
       " 'relocation': 2.7095916334154624,\n",
       " 'confidence': 2.7087917069802456,\n",
       " 'globally': 2.7087875261614864,\n",
       " 'direct': 2.706663714001595,\n",
       " 'risks': 2.7054856172349231,\n",
       " '000': 2.6987195346925956,\n",
       " 'minded': 2.6978884250553588,\n",
       " 'amazing': 2.6977443550144651,\n",
       " 'administration': 2.6971783583900235,\n",
       " 'colleagues': 2.6959877584040184,\n",
       " 'qualitative': 2.6928669910905061,\n",
       " 'employer': 2.6832413722903468,\n",
       " 'fixed': 2.6816550033021622,\n",
       " 'desire': 2.6803427520585865,\n",
       " 'travel': 2.6724300792756535,\n",
       " 'member': 2.6724092673686703,\n",
       " 'additional': 2.6716950373414878,\n",
       " 'independently': 2.6710734552026656,\n",
       " 'expected': 2.6678354620843052,\n",
       " 'governance': 2.6663362960175112,\n",
       " 'medical': 2.6596957655510751,\n",
       " 'linux': 2.6576847881636736,\n",
       " 'positive': 2.6576451326353405,\n",
       " 'cost': 2.6512976367052556,\n",
       " 'professionals': 2.6464433612416913,\n",
       " 'languages': 2.6416888490608175,\n",
       " 'capital': 2.6393182950709044,\n",
       " 'committed': 2.6387802060299981,\n",
       " 'progression': 2.6327861600717526,\n",
       " 'bachelors': 2.6299187497172363,\n",
       " 'prior': 2.6255825627104468,\n",
       " 'player': 2.6234163868431146,\n",
       " 'visa': 2.6150318780543227,\n",
       " 'structures': 2.615021488906506,\n",
       " 'qlikview': 2.6103459540045399,\n",
       " 'sponsorship': 2.6004285351301197,\n",
       " 'lifecycle': 2.5999052299351177,\n",
       " 'centre': 2.5958574930582206,\n",
       " 'manipulation': 2.5916645806379019,\n",
       " 'frameworks': 2.5868262425964392,\n",
       " 'abilities': 2.5827028229249178,\n",
       " 'gain': 2.5804592356870439,\n",
       " 'recruiting': 2.5763495917072259,\n",
       " 'wealth': 2.5745597095583213,\n",
       " 'industries': 2.562285740622543,\n",
       " 'interpret': 2.5534364316477038,\n",
       " 'network': 2.5530778439710797,\n",
       " 'relocate': 2.5481706456674518,\n",
       " 'internet': 2.54684597537344,\n",
       " 'reputation': 2.5467100243128145,\n",
       " 'quickly': 2.544604671200589,\n",
       " 'dealing': 2.5433150015426631,\n",
       " 'result': 2.5395508249089542,\n",
       " 'integrity': 2.5327716434786272,\n",
       " 'executive': 2.5292880246959522,\n",
       " 'benefit': 2.5275959043851728,\n",
       " 'months': 2.5273527441952099,\n",
       " 'ui': 2.525765694882379,\n",
       " 'care': 2.5253413029776897,\n",
       " 'reach': 2.5243417289760348,\n",
       " 'individuals': 2.5233381895914513,\n",
       " 'home': 2.5232700141422368,\n",
       " 'accuracy': 2.5135159138701768,\n",
       " 'economics': 2.5133755545395262,\n",
       " 'site': 2.5111355977665202,\n",
       " 'ux': 2.5085283380697216,\n",
       " 'early': 2.5045390028441501,\n",
       " 'options': 2.4963223438862778,\n",
       " 'just': 2.4884306185756939,\n",
       " 'enjoy': 2.4847002105527523,\n",
       " 'expanding': 2.4819032175148683,\n",
       " 'employees': 2.4800128210170818,\n",
       " 'action': 2.4732491580000775,\n",
       " 'master': 2.4727886090733602,\n",
       " 'javascript': 2.4667345036885107,\n",
       " 'workplace': 2.45335568928523,\n",
       " 'guide': 2.4495072062633598,\n",
       " 'oriented': 2.4493641373420028,\n",
       " 'interesting': 2.4464118503924679,\n",
       " 'integral': 2.4448628586954415,\n",
       " 'liaise': 2.4444704505732964,\n",
       " 'students': 2.4431786304934144,\n",
       " 'interaction': 2.438591382795539,\n",
       " 'influencing': 2.4274147715912155,\n",
       " 'winning': 2.4250795033948638,\n",
       " 'lifetime': 2.4200269502650542,\n",
       " 'creation': 2.4175998979645339,\n",
       " 'stack': 2.4175439399982968,\n",
       " 'chain': 2.4162498806882207,\n",
       " 'principles': 2.4113854604091314,\n",
       " 'assets': 2.4104621638792372,\n",
       " 'proficient': 2.4092255514313887,\n",
       " 'talent': 2.4088104819246356,\n",
       " 'gained': 2.4063051556867654,\n",
       " 'insightful': 2.4054711471295742,\n",
       " 'think': 2.4028720722173817,\n",
       " 'architect': 2.398692335365086,\n",
       " 'experiences': 2.3977642438364617,\n",
       " 'point': 2.3975166845707863,\n",
       " 'enable': 2.395394403008174,\n",
       " 'perth': 2.3938132860270218,\n",
       " 'property': 2.3895086911753607,\n",
       " 'deadlines': 2.3886699400371394,\n",
       " 'offices': 2.3870118691731697,\n",
       " 'central': 2.3852068872018699,\n",
       " 'beneficial': 2.383470303514919,\n",
       " 'share': 2.3831546770538163,\n",
       " 'manipulate': 2.3780833054205108,\n",
       " 'taylor': 2.3779147832547034,\n",
       " 'budgets': 2.3773661474526095,\n",
       " 'revenue': 2.3691716081692582,\n",
       " 'autonomously': 2.3659993752908091,\n",
       " 'bank': 2.3624521735417128,\n",
       " 'scheme': 2.3575074636255304,\n",
       " 'guidance': 2.354546235286521,\n",
       " 'ground': 2.3494076258228374,\n",
       " 'provider': 2.3485954653531467,\n",
       " 'proactive': 2.347692460637147,\n",
       " 'quarterly': 2.3409661172217073,\n",
       " 'linkedin': 2.3353690285831967,\n",
       " 'leveraging': 2.3336657199163313,\n",
       " 'generation': 2.3318604813339272,\n",
       " 'september': 2.3286886600962542,\n",
       " 'improved': 2.3245914860877375,\n",
       " 'complete': 2.324489699955584,\n",
       " 'board': 2.3174448874526603,\n",
       " 'asia': 2.3080324176342693,\n",
       " 'receive': 2.3040576523174043,\n",
       " 'tomexecutive': 2.3035304407292494,\n",
       " 'pre': 2.3033037416217415,\n",
       " 'optimization': 2.3000022712401047,\n",
       " 'includes': 2.2949037099886791,\n",
       " 'google': 2.2912338059638691,\n",
       " 'objects': 2.2845596207388086,\n",
       " 'tracking': 2.2734363935831094,\n",
       " 'assistance': 2.2715968283651602,\n",
       " 'teradata': 2.2704173338059843,\n",
       " 'unstructured': 2.2700012503868412,\n",
       " 'communicating': 2.2688012675469365,\n",
       " 'developed': 2.2687068599371196,\n",
       " 'house': 2.2667132104635734,\n",
       " 'https': 2.2657997521336171,\n",
       " 'rare': 2.2611509109260512,\n",
       " 'asx': 2.2574043058400917,\n",
       " 'trade': 2.2571226122924815,\n",
       " 'supply': 2.2552008510996036,\n",
       " 'commerce': 2.2549707641243106,\n",
       " 'leave': 2.2529002059404162,\n",
       " 'execution': 2.2493620514980615,\n",
       " 'actuarial': 2.2406732488034482,\n",
       " 'fintech': 2.2390953983825388,\n",
       " 'redshift': 2.2371223762852641,\n",
       " 'devops': 2.2357212955086192,\n",
       " 'willing': 2.2352199778083843,\n",
       " 'oracle': 2.2351042276023554,\n",
       " 'student': 2.2304251833220832,\n",
       " 'director': 2.2286845466776253,\n",
       " 'thought': 2.2279572349998857,\n",
       " 'collaboration': 2.2237370570557307,\n",
       " 'hit': 2.2231095578428568,\n",
       " 'built': 2.2173348312496195,\n",
       " 'compliance': 2.2161088100549984,\n",
       " 'getting': 2.215436372622023,\n",
       " 'past': 2.2094481552673928,\n",
       " 'requests': 2.2064066856368632,\n",
       " 'welcome': 2.2040609380620722,\n",
       " 'specifically': 2.2028493608665398,\n",
       " 'events': 2.2010622366427555,\n",
       " 'designs': 2.2005090584072189,\n",
       " 'weekly': 2.1984030915060084,\n",
       " 'skilled': 2.194074153517986,\n",
       " 'workflow': 2.1938621873167947,\n",
       " 'tm1': 2.1936260572695638,\n",
       " 'relation': 2.1927828592881156,\n",
       " 'framework': 2.1766084359173767,\n",
       " 'volumes': 2.1730313368366212,\n",
       " 'priorities': 2.169685966374165,\n",
       " 'scalable': 2.1689262141069698,\n",
       " 'behavioural': 2.1601309292383615,\n",
       " 'initiative': 2.1598012713084986,\n",
       " 'features': 2.1545296562056935,\n",
       " 'extraction': 2.1481781786671474,\n",
       " 'utilise': 2.1461533464731848,\n",
       " 'price': 2.1457999332574991,\n",
       " 'recognised': 2.1425461270115389,\n",
       " 'optimise': 2.1421444731498447,\n",
       " '11': 2.1400216181101657,\n",
       " 'banks': 2.1384981333985031,\n",
       " 'supportive': 2.1318973347522943,\n",
       " 'analyses': 2.129392704472453,\n",
       " 'school': 2.1266388878468336,\n",
       " 'region': 2.1249510978815453,\n",
       " 'ecommerce': 2.1209828546973784,\n",
       " 'assessment': 2.1202815364303724,\n",
       " 'suit': 2.1195069229877186,\n",
       " 'huge': 2.1150909809440783,\n",
       " 'institution': 2.1128565955122087,\n",
       " 'shortlisted': 2.1119328528838808,\n",
       " 'pipeline': 2.1099492398253359,\n",
       " 'short': 2.1072580311040112,\n",
       " 'capable': 2.0992423507509823,\n",
       " 'commercially': 2.0986395356616647,\n",
       " 'cycle': 2.0970528047391084,\n",
       " 'budgeting': 2.0943117459163845,\n",
       " 'facilitate': 2.0907197980351375,\n",
       " 'branch': 2.0872902409048937,\n",
       " 'regarding': 2.0817663341152013,\n",
       " 'step': 2.078047896013147,\n",
       " 'spss': 2.075047960918861,\n",
       " 'copy': 2.0749268334078566,\n",
       " 'basic': 2.0744316684754254,\n",
       " 'regulatory': 2.0738005881182433,\n",
       " 'participate': 2.0736887929126908,\n",
       " 'follow': 2.0722321777041426,\n",
       " 'initial': 2.068836419282901,\n",
       " 'smart': 2.0674909845789138,\n",
       " 'suitable': 2.0648035058852212,\n",
       " 'shape': 2.0639131105629764,\n",
       " 'owners': 2.0621887258137508,\n",
       " 'recently': 2.062152839693554,\n",
       " 'contemporary': 2.0601211695381707,\n",
       " 'generous': 2.0586820484612236,\n",
       " 'quoting': 2.057545906495192,\n",
       " 'overall': 2.0569152295302944,\n",
       " 'hard': 2.0568321127367399,\n",
       " 'evaluate': 2.0560400045866016,\n",
       " 'taking': 2.0544876417911029,\n",
       " 'primarily': 2.0528754959346172,\n",
       " 'story': 2.0444192726744701,\n",
       " 'website': 2.0442730922441781,\n",
       " 'specialists': 2.0423289416276695,\n",
       " 'successfully': 2.0422099423641598,\n",
       " 'given': 2.0405485849105403,\n",
       " 'assurance': 2.0383717697525139,\n",
       " 'wider': 2.0357363132222535,\n",
       " 'supports': 2.0327346796269254,\n",
       " 'inform': 2.0279678994851742,\n",
       " 'workshops': 2.0220905033378305,\n",
       " 'prospects': 2.021338435144481,\n",
       " 'visit': 2.0205988143278328,\n",
       " 'drivers': 2.0187751890390064,\n",
       " 'conducting': 2.017661184229588,\n",
       " 'encouraged': 2.0175144362549009,\n",
       " 'increasing': 2.0149719645152198,\n",
       " 'tafe': 2.0128999516945676,\n",
       " 'challenge': 2.0098794590032623,\n",
       " 'search': 2.0096198610690053,\n",
       " 'october': 2.0050553011929813,\n",
       " 'structure': 1.9983806623216209,\n",
       " 'preferably': 1.9929742740314373,\n",
       " 'manipulating': 1.9913970694214209,\n",
       " 'form': 1.9879617404853693,\n",
       " 'check': 1.9879397864407786,\n",
       " 'targets': 1.9858995193089175,\n",
       " 'industrial': 1.9840087729431313,\n",
       " 'food': 1.9837055183383672,\n",
       " ...}"
      ]
     },
     "execution_count": 72,
     "metadata": {},
     "output_type": "execute_result"
    }
   ],
   "source": [
    "tf_d"
   ]
  },
  {
   "cell_type": "code",
   "execution_count": 73,
   "metadata": {
    "collapsed": true
   },
   "outputs": [],
   "source": [
    "# creating dictionaries that provide the proportion share of a given text feature that belongs to Data Science or Non-Data Science\n",
    "# warning, slow\n",
    "ds_d, ba_d = {}, {}\n",
    "\n",
    "for k in tf_d:\n",
    "    if k in ds.iloc[:,2:].sum().index:\n",
    "        ds_d.update({k : ds.loc[:,k].sum() / tf_d[k]})\n",
    "        \n",
    "for k in tf_d:\n",
    "    if k in ba.iloc[:,2:].sum().index:\n",
    "        ba_d.update({k : ba.loc[:,k].sum() / tf_d[k]})    \n",
    "    "
   ]
  },
  {
   "cell_type": "code",
   "execution_count": 74,
   "metadata": {
    "scrolled": false
   },
   "outputs": [
    {
     "name": "stdout",
     "output_type": "stream",
     "text": [
      "128 Entries\n"
     ]
    },
    {
     "data": {
      "text/plain": [
       "scientific        0.986581\n",
       "scientists        0.983243\n",
       "scala             0.979117\n",
       "computing         0.977771\n",
       "aws               0.975462\n",
       "sell              0.973638\n",
       "spark             0.972784\n",
       "phd               0.970688\n",
       "stack             0.968265\n",
       "engineer          0.967816\n",
       "image             0.967236\n",
       "segmentation      0.966671\n",
       "modern            0.962880\n",
       "algorithms        0.962833\n",
       "redshift          0.960823\n",
       "optimization      0.960648\n",
       "scheme            0.959870\n",
       "audience          0.959680\n",
       "domains           0.959197\n",
       "campaign          0.955817\n",
       "optimisation      0.955018\n",
       "scalable          0.954216\n",
       "hotel             0.953058\n",
       "mysql             0.952528\n",
       "machine           0.950693\n",
       "alteryx           0.950037\n",
       "usual             0.949971\n",
       "evidence          0.948737\n",
       "java              0.947315\n",
       "connections       0.946835\n",
       "                    ...   \n",
       "disciplines       0.911639\n",
       "strongly          0.909634\n",
       "spss              0.909206\n",
       "datasets          0.909107\n",
       "event             0.908850\n",
       "visualisation     0.908738\n",
       "research          0.908069\n",
       "amounts           0.907453\n",
       "crucial           0.907269\n",
       "learning          0.907159\n",
       "leveraging        0.906607\n",
       "warehousing       0.906135\n",
       "incredible        0.905909\n",
       "employing         0.905643\n",
       "interviewing      0.905603\n",
       "classification    0.904691\n",
       "intuitive         0.904643\n",
       "sets              0.904550\n",
       "science           0.904429\n",
       "scratch           0.904177\n",
       "creative          0.903804\n",
       "transactional     0.903687\n",
       "text              0.903472\n",
       "involving         0.903366\n",
       "happen            0.903097\n",
       "visualizations    0.902792\n",
       "deploy            0.902651\n",
       "studied           0.900696\n",
       "methods           0.900492\n",
       "tell              0.900448\n",
       "Length: 128, dtype: float64"
      ]
     },
     "execution_count": 74,
     "metadata": {},
     "output_type": "execute_result"
    }
   ],
   "source": [
    "# this shows the features where the proportion of appearance is upwards of 90% belonging to Data Science\n",
    "# I believe that this could be used for feature selection to further optimise classification algorithms\n",
    "ds_d = pd.Series(ds_d)\n",
    "print(len(ds_d[ds_d > 0.9]), 'Entries')\n",
    "ds_d[ds_d > 0.9].sort_values(ascending = False)"
   ]
  },
  {
   "cell_type": "code",
   "execution_count": 75,
   "metadata": {
    "scrolled": false
   },
   "outputs": [
    {
     "name": "stdout",
     "output_type": "stream",
     "text": [
      "106 Entries\n"
     ]
    },
    {
     "data": {
      "text/plain": [
       "tax               0.964507\n",
       "upgrades          0.948217\n",
       "gaps              0.946325\n",
       "budgeting         0.943472\n",
       "shared            0.936813\n",
       "leasing           0.931913\n",
       "flow              0.929518\n",
       "proposed          0.912493\n",
       "hr                0.910508\n",
       "north             0.908179\n",
       "prioritisation    0.901079\n",
       "wealth            0.897204\n",
       "movement          0.894614\n",
       "variance          0.892348\n",
       "incidents         0.883438\n",
       "admin             0.880091\n",
       "officers          0.872072\n",
       "parties           0.871978\n",
       "externally        0.871462\n",
       "elicit            0.870954\n",
       "perth             0.869729\n",
       "effort            0.869587\n",
       "personnel         0.869539\n",
       "arisen            0.868933\n",
       "modules           0.868655\n",
       "roberthalf        0.867465\n",
       "average           0.865579\n",
       "testers           0.863697\n",
       "saving            0.860590\n",
       "embark            0.858884\n",
       "                    ...   \n",
       "interviews        0.818610\n",
       "pmo               0.818588\n",
       "accessibility     0.818437\n",
       "citizen           0.818117\n",
       "wednesday         0.817517\n",
       "matters           0.815485\n",
       "internally        0.815471\n",
       "acceptance        0.812945\n",
       "operate           0.812206\n",
       "initial           0.811868\n",
       "workshops         0.811383\n",
       "output            0.811322\n",
       "extension         0.810819\n",
       "arena             0.810341\n",
       "methodical        0.809531\n",
       "quote             0.809416\n",
       "listen            0.808726\n",
       "force             0.808082\n",
       "bas               0.807747\n",
       "configure         0.806928\n",
       "scrummaster       0.806040\n",
       "validate          0.805461\n",
       "fitness           0.805328\n",
       "austcorp          0.804444\n",
       "enrolments        0.804248\n",
       "receiving         0.802184\n",
       "assessments       0.801720\n",
       "21                0.800913\n",
       "9641              0.800168\n",
       "charterhouse      0.800168\n",
       "Length: 106, dtype: float64"
      ]
     },
     "execution_count": 75,
     "metadata": {},
     "output_type": "execute_result"
    }
   ],
   "source": [
    "# conversely, this shows the features where the proportion of appearance is upwards of 80% belonging to Non-Data Science\n",
    "ba_d = pd.Series(ba_d)\n",
    "print(len(ba_d[ba_d > 0.8]), 'Entries')\n",
    "ba_d[ba_d > 0.8].sort_values(ascending = False)"
   ]
  },
  {
   "cell_type": "markdown",
   "metadata": {},
   "source": [
    "### Predicting Salary\n",
    "\n",
    "Unfortuantely, I wasn't able to get a good model with the Business-Analyst rows included, so I first run the model with those lines excluded. I will run another model with those lines included after"
   ]
  },
  {
   "cell_type": "code",
   "execution_count": 76,
   "metadata": {
    "collapsed": true
   },
   "outputs": [],
   "source": [
    "df = pd.read_csv('second_scrape_w_text.csv', index_col=0)\n",
    "\n",
    "# masking senior as a feature\n",
    "df.loc[senior_indices, 'senior'] = 1\n",
    "df.loc[df['senior'] != 1, 'senior'] = 0\n",
    "\n",
    "# excluding Business Analyst lines\n",
    "df = df[df['file'] != 'business-analyst']\n",
    "df.reset_index(inplace = True, drop = True)\n",
    "\n",
    "df.drop(['job_bullets', 'job_salary', 'salary_k', 'salary_comma', 'salary_lower', 'salary_upper', 'file'], axis = 1, inplace = True)\n",
    "\n",
    "df = df[['job_title', 'job_company', 'salary', 'senior', 'job_description', 'job_text', 'job_employment_type', 'job_ids', 'job_industry', \n",
    "         'job_sub_industry', 'job_location', 'job_sub_location', 'description_len', 'job_urls']]"
   ]
  },
  {
   "cell_type": "code",
   "execution_count": 77,
   "metadata": {},
   "outputs": [
    {
     "data": {
      "image/png": "[encoded data removed]",
      "text/plain": [
       "<matplotlib.figure.Figure at 0x112cdc668>"
      ]
     },
     "metadata": {
      "image/png": {
       "height": 282,
       "width": 453
      }
     },
     "output_type": "display_data"
    }
   ],
   "source": [
    "plt.figure(figsize = [7,4])\n",
    "sns.distplot(df[df['senior'] == 1]['salary'])\n",
    "plt.title('Salary of Senior Roles', fontsize = 20);"
   ]
  },
  {
   "cell_type": "code",
   "execution_count": 78,
   "metadata": {},
   "outputs": [
    {
     "data": {
      "image/png": "[encoded data removed]",
      "text/plain": [
       "<matplotlib.figure.Figure at 0x113b62a58>"
      ]
     },
     "metadata": {
      "image/png": {
       "height": 282,
       "width": 453
      }
     },
     "output_type": "display_data"
    }
   ],
   "source": [
    "# I realised that I have a minimum salary of 1000 right before my presentation\n",
    "plt.figure(figsize = [7,4])\n",
    "sns.distplot(df[df['senior'] == 0]['salary']);\n",
    "plt.title('Salary of Non-Senior Roles', fontsize = 20);"
   ]
  },
  {
   "cell_type": "code",
   "execution_count": 79,
   "metadata": {
    "scrolled": true
   },
   "outputs": [
    {
     "data": {
      "image/png": "[encoded data removed]",
      "text/plain": [
       "<matplotlib.figure.Figure at 0x113e09c18>"
      ]
     },
     "metadata": {
      "image/png": {
       "height": 282,
       "width": 1000
      }
     },
     "output_type": "display_data"
    }
   ],
   "source": [
    "plt.figure(figsize = [14,4])\n",
    "plt.subplot(1,2,1), sns.distplot(df['description_len'])\n",
    "plt.title('Description Length (Data Science Only)')\n",
    "plt.xlabel('Number of Words')\n",
    "\n",
    "plt.subplot(1,2,2), sns.distplot(df['salary'])\n",
    "plt.title('Salary (Data Science Only)')\n",
    "plt.tight_layout();"
   ]
  },
  {
   "cell_type": "code",
   "execution_count": 80,
   "metadata": {
    "collapsed": true
   },
   "outputs": [],
   "source": [
    "def convert_camelcase(name):\n",
    "    '''Convert CamelCase to camel case'''\n",
    "    s1 = re.sub('(.)([A-Z][a-z]+)', r'\\1 \\2', name)\n",
    "    return re.sub('([a-z0-9])([A-Z])', r'\\1 \\2', s1).lower()\n",
    "\n",
    "exclude = set(string.punctuation)\n",
    "\n",
    "for col in ['job_title', 'job_description', 'job_text', 'job_industry', 'job_sub_industry']:\n",
    "    for idx, row in df.iterrows():\n",
    "        s = row[col]\n",
    "        s = ''.join(ch for ch in s if ch not in exclude)\n",
    "        s = convert_camelcase(s)\n",
    "        df.loc[idx, col] = s.replace('  ',' ')\n",
    "    df[col] = df[col].str.replace('  ', ' ')"
   ]
  },
  {
   "cell_type": "code",
   "execution_count": 81,
   "metadata": {
    "collapsed": true
   },
   "outputs": [],
   "source": [
    "# creating encoding the industry fields as dummy variables \n",
    "dummies = pd.get_dummies(df[['job_industry', 'job_sub_industry']], drop_first=True)\n",
    "df = pd.concat([df, dummies], axis = 1)\n",
    "df.drop(['job_industry', 'job_sub_industry'], axis = 1, inplace = True)"
   ]
  },
  {
   "cell_type": "code",
   "execution_count": 82,
   "metadata": {
    "collapsed": true
   },
   "outputs": [],
   "source": [
    "# reinstantiatng the tf idf vectorizer object\n",
    "tf = TfidfVectorizer(ngram_range = (1,1), stop_words = 'english')\n",
    "# creating a sparse matrix of the job titles\n",
    "titles = pd.DataFrame(tf.fit_transform(df['job_title']).todense(), \n",
    "                      columns = tf.get_feature_names())"
   ]
  },
  {
   "cell_type": "code",
   "execution_count": 83,
   "metadata": {},
   "outputs": [
    {
     "data": {
      "text/plain": [
       "(593, 396)"
      ]
     },
     "execution_count": 83,
     "metadata": {},
     "output_type": "execute_result"
    }
   ],
   "source": [
    "titles.shape"
   ]
  },
  {
   "cell_type": "code",
   "execution_count": 84,
   "metadata": {
    "collapsed": true
   },
   "outputs": [],
   "source": [
    "# concatenating the sparse matrix to the data frame\n",
    "df.reset_index(inplace = True, drop = True)\n",
    "df = pd.concat([df, titles], axis = 1)"
   ]
  },
  {
   "cell_type": "code",
   "execution_count": 85,
   "metadata": {},
   "outputs": [
    {
     "data": {
      "text/plain": [
       "(593, 466)"
      ]
     },
     "execution_count": 85,
     "metadata": {},
     "output_type": "execute_result"
    }
   ],
   "source": [
    "df.shape"
   ]
  },
  {
   "cell_type": "code",
   "execution_count": 86,
   "metadata": {
    "collapsed": true
   },
   "outputs": [],
   "source": [
    "from sklearn.linear_model import RidgeCV, LassoCV, Ridge, Lasso, MultiTaskLassoCV\n",
    "from sklearn.model_selection import cross_val_score"
   ]
  },
  {
   "cell_type": "code",
   "execution_count": 87,
   "metadata": {
    "collapsed": true
   },
   "outputs": [],
   "source": [
    "X = df.drop(['job_title', 'job_company', 'job_text', 'salary', 'job_description', 'job_employment_type', 'job_ids', \n",
    "             'job_location', 'job_sub_location', 'job_urls'], axis = 1).values\n",
    "\n",
    "y = df['salary']"
   ]
  },
  {
   "cell_type": "code",
   "execution_count": 88,
   "metadata": {
    "scrolled": false
   },
   "outputs": [
    {
     "name": "stdout",
     "output_type": "stream",
     "text": [
      "Ridge(alpha=1.0, copy_X=True, fit_intercept=True, max_iter=None,\n",
      "   normalize=False, random_state=None, solver='auto', tol=0.001)\n",
      "\n",
      "0.611832538382\n",
      "[ 0.55573994  0.46107832  0.41773374  0.63740025  0.8953789   0.53216547\n",
      "  0.86968952  0.86270073  0.14256367  0.74387484]\n",
      "\n",
      "RidgeCV(alphas=(0.1, 1.0, 10.0), cv=None, fit_intercept=True, gcv_mode=None,\n",
      "    normalize=False, scoring=None, store_cv_values=False)\n",
      "\n",
      "0.636967922174\n",
      "[ 0.65795497  0.47784721  0.45745522  0.80420577  0.98081643  0.46415522\n",
      "  0.9434709   0.95880842 -0.15767597  0.78264104]\n",
      "\n",
      "LassoCV(alphas=None, copy_X=True, cv=None, eps=0.001, fit_intercept=True,\n",
      "    max_iter=1000, n_alphas=100, n_jobs=1, normalize=False, positive=False,\n",
      "    precompute='auto', random_state=None, selection='cyclic', tol=0.0001,\n",
      "    verbose=False)\n",
      "\n",
      "0.729463368642\n",
      "[ 0.57411563  0.48598124  0.64608605  0.70896628  0.97316538  0.48847291\n",
      "  0.97001316  0.97297107  0.72007543  0.75478654]\n",
      "\n"
     ]
    }
   ],
   "source": [
    "ridge = Ridge()\n",
    "ridge_cv = RidgeCV()\n",
    "lasso_cv = LassoCV()\n",
    "\n",
    "for algo in [ridge, ridge_cv, lasso_cv]:\n",
    "    scores = cross_val_score(algo, X, y, cv = 10)\n",
    "    print(algo)\n",
    "    print()\n",
    "    print(np.mean(scores))\n",
    "    print(scores)\n",
    "    print()"
   ]
  },
  {
   "cell_type": "code",
   "execution_count": 89,
   "metadata": {
    "collapsed": true
   },
   "outputs": [],
   "source": [
    "from sklearn.ensemble import RandomForestRegressor"
   ]
  },
  {
   "cell_type": "code",
   "execution_count": 90,
   "metadata": {
    "collapsed": true
   },
   "outputs": [],
   "source": [
    "rfr = RandomForestRegressor(n_estimators = 300, random_state = 99)"
   ]
  },
  {
   "cell_type": "code",
   "execution_count": 91,
   "metadata": {},
   "outputs": [
    {
     "data": {
      "text/plain": [
       "array([ 0.49900412,  0.51525907,  0.93504514,  0.94516114,  0.04724003])"
      ]
     },
     "execution_count": 91,
     "metadata": {},
     "output_type": "execute_result"
    }
   ],
   "source": [
    "# random forest did not perform great\n",
    "cross_val_score(rfr, X, y, cv = 5)"
   ]
  },
  {
   "cell_type": "code",
   "execution_count": 92,
   "metadata": {
    "collapsed": true
   },
   "outputs": [],
   "source": [
    "from sklearn.preprocessing import StandardScaler"
   ]
  },
  {
   "cell_type": "code",
   "execution_count": 93,
   "metadata": {
    "collapsed": true
   },
   "outputs": [],
   "source": [
    "ss = StandardScaler()\n",
    "Xs = ss.fit_transform(X)"
   ]
  },
  {
   "cell_type": "code",
   "execution_count": 94,
   "metadata": {},
   "outputs": [
    {
     "data": {
      "text/plain": [
       "array([ 0.49900718,  0.51532221,  0.93505661,  0.94512732,  0.04721065])"
      ]
     },
     "execution_count": 94,
     "metadata": {},
     "output_type": "execute_result"
    }
   ],
   "source": [
    "# standardisation did not really help random forest\n",
    "cross_val_score(rfr, Xs, y, cv = 5)"
   ]
  },
  {
   "cell_type": "code",
   "execution_count": 95,
   "metadata": {},
   "outputs": [
    {
     "name": "stdout",
     "output_type": "stream",
     "text": [
      "Ridge(alpha=1.0, copy_X=True, fit_intercept=True, max_iter=None,\n",
      "   normalize=False, random_state=None, solver='auto', tol=0.001)\n",
      "\n",
      "0.596309186892\n",
      "[ 0.68883981  0.46269745  0.59946981  0.73765023  0.9763153  -0.08117489\n",
      "  0.96548465  0.96476514 -0.10208724  0.75113161]\n",
      "\n",
      "RidgeCV(alphas=(0.1, 1.0, 10.0), cv=None, fit_intercept=True, gcv_mode=None,\n",
      "    normalize=False, scoring=None, store_cv_values=False)\n",
      "\n",
      "0.668476290142\n",
      "[ 0.68469337  0.47405812  0.58486147  0.81431959  0.9795129   0.40064187\n",
      "  0.96231988  0.97682152  0.00389181  0.80364239]\n",
      "\n",
      "LassoCV(alphas=None, copy_X=True, cv=None, eps=0.001, fit_intercept=True,\n",
      "    max_iter=1000, n_alphas=100, n_jobs=1, normalize=False, positive=False,\n",
      "    precompute='auto', random_state=None, selection='cyclic', tol=0.0001,\n",
      "    verbose=False)\n",
      "\n",
      "0.755942922194\n",
      "[ 0.67246367  0.47497461  0.70834039  0.82523235  0.97282054  0.54608341\n",
      "  0.9830516   0.98176414  0.70128106  0.69341745]\n",
      "\n"
     ]
    }
   ],
   "source": [
    "# standardisation sort of helped Lasso CV\n",
    "ridge = Ridge()\n",
    "ridge_cv = RidgeCV()\n",
    "lasso_cv = LassoCV()\n",
    "\n",
    "for algo in [ridge, ridge_cv, lasso_cv]:\n",
    "    scores = cross_val_score(algo, Xs, y, cv = 10)\n",
    "    print(algo)\n",
    "    print()\n",
    "    print(np.mean(scores))\n",
    "    print(scores)\n",
    "    print()"
   ]
  },
  {
   "cell_type": "code",
   "execution_count": 96,
   "metadata": {},
   "outputs": [
    {
     "data": {
      "text/plain": [
       "(593, 456)"
      ]
     },
     "execution_count": 96,
     "metadata": {},
     "output_type": "execute_result"
    }
   ],
   "source": [
    "Xs.shape"
   ]
  },
  {
   "cell_type": "code",
   "execution_count": 97,
   "metadata": {
    "collapsed": true
   },
   "outputs": [],
   "source": [
    "from sklearn.decomposition import PCA"
   ]
  },
  {
   "cell_type": "code",
   "execution_count": 98,
   "metadata": {},
   "outputs": [
    {
     "data": {
      "text/plain": [
       "PCA(copy=True, iterated_power='auto', n_components=None, random_state=None,\n",
       "  svd_solver='auto', tol=0.0, whiten=False)"
      ]
     },
     "execution_count": 98,
     "metadata": {},
     "output_type": "execute_result"
    }
   ],
   "source": [
    "pca = PCA()\n",
    "pca.fit(Xs)"
   ]
  },
  {
   "cell_type": "code",
   "execution_count": 99,
   "metadata": {
    "collapsed": true
   },
   "outputs": [],
   "source": [
    "components = pca.transform(Xs)"
   ]
  },
  {
   "cell_type": "code",
   "execution_count": 100,
   "metadata": {},
   "outputs": [
    {
     "data": {
      "text/plain": [
       "(593, 456)"
      ]
     },
     "execution_count": 100,
     "metadata": {},
     "output_type": "execute_result"
    }
   ],
   "source": [
    "components.shape"
   ]
  },
  {
   "cell_type": "code",
   "execution_count": 101,
   "metadata": {},
   "outputs": [
    {
     "data": {
      "image/png": "[encoded data removed]",
      "text/plain": [
       "<matplotlib.figure.Figure at 0x119d7f3c8>"
      ]
     },
     "metadata": {
      "image/png": {
       "height": 248,
       "width": 386
      }
     },
     "output_type": "display_data"
    }
   ],
   "source": [
    "plt.plot(pca.explained_variance_ratio_);"
   ]
  },
  {
   "cell_type": "code",
   "execution_count": 102,
   "metadata": {},
   "outputs": [
    {
     "data": {
      "text/plain": [
       "1.0"
      ]
     },
     "execution_count": 102,
     "metadata": {},
     "output_type": "execute_result"
    }
   ],
   "source": [
    "pca.explained_variance_ratio_.sum()"
   ]
  },
  {
   "cell_type": "code",
   "execution_count": 103,
   "metadata": {
    "collapsed": true
   },
   "outputs": [],
   "source": [
    "X_pca = components.T[:40]"
   ]
  },
  {
   "cell_type": "code",
   "execution_count": 104,
   "metadata": {},
   "outputs": [
    {
     "data": {
      "text/plain": [
       "array([-0.00747513,  0.02893923, -0.12681476,  0.01367988, -0.02326531,\n",
       "       -0.27339816, -0.63688965, -0.00802038,  0.07736145, -0.11291295])"
      ]
     },
     "execution_count": 104,
     "metadata": {},
     "output_type": "execute_result"
    }
   ],
   "source": [
    "# PCA also did not help\n",
    "cross_val_score(lasso_cv, X_pca.T, y, cv = 10)"
   ]
  },
  {
   "cell_type": "markdown",
   "metadata": {},
   "source": [
    "### Executive Summary"
   ]
  },
  {
   "cell_type": "markdown",
   "metadata": {},
   "source": [
    "Web scraping job adverts from websites such as seek.com or indeed.com can allow insights into how features such as pay, location, and share of overall employment are distributed across the various sectors. \n",
    "\n",
    "Web scraping primarily involves researching the layout of webpages of interest in order to identify commonalities. This step is crucial because any web scraping code needs to be scaled such that the code will provide the desired results across thousands of web pages. Once code is written, it needs to be tested on multiple web pages in order to ensure that the layout remained consistent.\n",
    "\n",
    "However, despite thorough research and testing, there will always be variability in the layout of job posting web pages because the job poster actually creates the job advert. This can lead to discrepancy, or holes in the data, which may indicate that the feature is useless. More dangerously, this can alternatively lead to features getting mixed up when web scraped. This will muddle features, and can easily pass unnoticed.\n",
    "\n",
    "Job postings  relating to Data Science were scraped by passing the url corresponding to a search for a position or software used within the whole of Australia. Additionally, another search for Business Analyst was passed.\n",
    "\n",
    "Once the jobs were scraped, the data needed to be cleaned. Jobs were removed if they didn’t have an associated salary, or if the salary provided corresponded to daily or hourly rates.\n",
    "\n",
    "In order to classify jobs, the data was divided into jobs that came from the Business Analyst search, and jobs that didn’t (Data Science). From there, a model was trained using the count of words in the short description, in addition to the actual job text of the job listing. The job text was used by counting the occurrences of each word in each listing (of which there were ~2,000 on average), and scaling significance of each word by its prevalence against all of the other words from all of the other jobs.\n",
    "\n",
    "Assuming perfect data (e.g. all jobs were labeled correctly and additionally consisted of work that would be characteristic of a Data Scientist or Business Analyst), the model was very effective, classifying roles correctly 80% of the time.\n",
    "\n",
    "Predicting job salary proved to be more difficult. The predictive models’ features included the count of words in the description, the industry fields, and the text of the job title instead of the actual job text. The model performed better when only run on jobs labeled as Data Science, predicting the salary with differences of ~30% from the true salary. That said, the prediction algorithm was not consistent, and is therefore not very reliable. \n",
    "When applied to the entirety of the data, the model performed much worse, predicting with differences of ~70-75% from the true salary."
   ]
  }
 ],
 "metadata": {
  "kernelspec": {
   "display_name": "Python 3",
   "language": "python",
   "name": "python3"
  },
  "language_info": {
   "codemirror_mode": {
    "name": "ipython",
    "version": 3
   },
   "file_extension": ".py",
   "mimetype": "text/x-python",
   "name": "python",
   "nbconvert_exporter": "python",
   "pygments_lexer": "ipython3",
   "version": "3.6.1"
  }
 },
 "nbformat": 4,
 "nbformat_minor": 2
}
